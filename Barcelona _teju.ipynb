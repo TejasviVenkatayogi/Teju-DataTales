{
 "cells": [
  {
   "cell_type": "code",
   "execution_count": 1,
   "metadata": {},
   "outputs": [
    {
     "data": {
      "text/html": [
       "<div>\n",
       "<style scoped>\n",
       "    .dataframe tbody tr th:only-of-type {\n",
       "        vertical-align: middle;\n",
       "    }\n",
       "\n",
       "    .dataframe tbody tr th {\n",
       "        vertical-align: top;\n",
       "    }\n",
       "\n",
       "    .dataframe thead th {\n",
       "        text-align: right;\n",
       "    }\n",
       "</style>\n",
       "<table border=\"1\" class=\"dataframe\">\n",
       "  <thead>\n",
       "    <tr style=\"text-align: right;\">\n",
       "      <th></th>\n",
       "      <th>Id</th>\n",
       "      <th>District Name</th>\n",
       "      <th>Neighborhood Name</th>\n",
       "      <th>Street</th>\n",
       "      <th>Weekday</th>\n",
       "      <th>Month</th>\n",
       "      <th>Day</th>\n",
       "      <th>Hour</th>\n",
       "      <th>Part of the day</th>\n",
       "      <th>Mild injuries</th>\n",
       "      <th>Serious injuries</th>\n",
       "      <th>Victims</th>\n",
       "      <th>Vehicles involved</th>\n",
       "      <th>Longitude</th>\n",
       "      <th>Latitude</th>\n",
       "    </tr>\n",
       "  </thead>\n",
       "  <tbody>\n",
       "    <tr>\n",
       "      <td>0</td>\n",
       "      <td>2017S008429</td>\n",
       "      <td>Unknown</td>\n",
       "      <td>Unknown</td>\n",
       "      <td>Número 27                                     ...</td>\n",
       "      <td>Friday</td>\n",
       "      <td>October</td>\n",
       "      <td>13</td>\n",
       "      <td>8</td>\n",
       "      <td>Morning</td>\n",
       "      <td>2</td>\n",
       "      <td>0</td>\n",
       "      <td>2</td>\n",
       "      <td>2</td>\n",
       "      <td>2.125624</td>\n",
       "      <td>41.340045</td>\n",
       "    </tr>\n",
       "    <tr>\n",
       "      <td>1</td>\n",
       "      <td>2017S007316</td>\n",
       "      <td>Unknown</td>\n",
       "      <td>Unknown</td>\n",
       "      <td>Número 3 Zona Franca / Número 50 Zona Franca  ...</td>\n",
       "      <td>Friday</td>\n",
       "      <td>September</td>\n",
       "      <td>1</td>\n",
       "      <td>13</td>\n",
       "      <td>Morning</td>\n",
       "      <td>2</td>\n",
       "      <td>0</td>\n",
       "      <td>2</td>\n",
       "      <td>2</td>\n",
       "      <td>2.120452</td>\n",
       "      <td>41.339426</td>\n",
       "    </tr>\n",
       "    <tr>\n",
       "      <td>2</td>\n",
       "      <td>2017S010210</td>\n",
       "      <td>Unknown</td>\n",
       "      <td>Unknown</td>\n",
       "      <td>Litoral (Besòs)                               ...</td>\n",
       "      <td>Friday</td>\n",
       "      <td>December</td>\n",
       "      <td>8</td>\n",
       "      <td>21</td>\n",
       "      <td>Afternoon</td>\n",
       "      <td>5</td>\n",
       "      <td>0</td>\n",
       "      <td>5</td>\n",
       "      <td>2</td>\n",
       "      <td>2.167356</td>\n",
       "      <td>41.360885</td>\n",
       "    </tr>\n",
       "    <tr>\n",
       "      <td>3</td>\n",
       "      <td>2017S006364</td>\n",
       "      <td>Unknown</td>\n",
       "      <td>Unknown</td>\n",
       "      <td>Número 3 Zona Franca                          ...</td>\n",
       "      <td>Friday</td>\n",
       "      <td>July</td>\n",
       "      <td>21</td>\n",
       "      <td>2</td>\n",
       "      <td>Night</td>\n",
       "      <td>1</td>\n",
       "      <td>0</td>\n",
       "      <td>1</td>\n",
       "      <td>2</td>\n",
       "      <td>2.124529</td>\n",
       "      <td>41.337668</td>\n",
       "    </tr>\n",
       "    <tr>\n",
       "      <td>4</td>\n",
       "      <td>2017S004615</td>\n",
       "      <td>Sant Martí</td>\n",
       "      <td>el Camp de l'Arpa del Clot</td>\n",
       "      <td>Las Navas de Tolosa                           ...</td>\n",
       "      <td>Thursday</td>\n",
       "      <td>May</td>\n",
       "      <td>25</td>\n",
       "      <td>14</td>\n",
       "      <td>Afternoon</td>\n",
       "      <td>1</td>\n",
       "      <td>0</td>\n",
       "      <td>1</td>\n",
       "      <td>3</td>\n",
       "      <td>2.185272</td>\n",
       "      <td>41.416365</td>\n",
       "    </tr>\n",
       "  </tbody>\n",
       "</table>\n",
       "</div>"
      ],
      "text/plain": [
       "                Id District Name           Neighborhood Name  \\\n",
       "0  2017S008429           Unknown                     Unknown   \n",
       "1  2017S007316           Unknown                     Unknown   \n",
       "2  2017S010210           Unknown                     Unknown   \n",
       "3  2017S006364           Unknown                     Unknown   \n",
       "4  2017S004615        Sant Martí  el Camp de l'Arpa del Clot   \n",
       "\n",
       "                                              Street   Weekday      Month  \\\n",
       "0  Número 27                                     ...    Friday    October   \n",
       "1  Número 3 Zona Franca / Número 50 Zona Franca  ...    Friday  September   \n",
       "2  Litoral (Besòs)                               ...    Friday   December   \n",
       "3  Número 3 Zona Franca                          ...    Friday       July   \n",
       "4  Las Navas de Tolosa                           ...  Thursday        May   \n",
       "\n",
       "   Day  Hour Part of the day  Mild injuries  Serious injuries  Victims  \\\n",
       "0   13     8         Morning              2                 0        2   \n",
       "1    1    13         Morning              2                 0        2   \n",
       "2    8    21       Afternoon              5                 0        5   \n",
       "3   21     2           Night              1                 0        1   \n",
       "4   25    14       Afternoon              1                 0        1   \n",
       "\n",
       "   Vehicles involved  Longitude   Latitude  \n",
       "0                  2   2.125624  41.340045  \n",
       "1                  2   2.120452  41.339426  \n",
       "2                  2   2.167356  41.360885  \n",
       "3                  2   2.124529  41.337668  \n",
       "4                  3   2.185272  41.416365  "
      ]
     },
     "execution_count": 1,
     "metadata": {},
     "output_type": "execute_result"
    }
   ],
   "source": [
    "#Problem Statement\n",
    "#Analysing the accidents in Barcelona\n",
    "\n",
    "#Importing Numpy and Pandas\n",
    "import numpy as np\n",
    "import pandas as pd\n",
    "#Reading Data\n",
    "barcelona=pd.read_csv(\"C:\\\\Users\\\\Teju\\\\Desktop\\\\barcelona\\\\BarcelonaDataset-master\\\\accidents_2017.csv\")\n",
    "barcelona.head()"
   ]
  },
  {
   "cell_type": "code",
   "execution_count": 2,
   "metadata": {},
   "outputs": [
    {
     "name": "stdout",
     "output_type": "stream",
     "text": [
      "Loading formatted geocoded file...\n"
     ]
    },
    {
     "data": {
      "text/plain": [
       "[OrderedDict([('lat', '2.34464'),\n",
       "              ('lon', '42.27644'),\n",
       "              ('name', 'Baardheere'),\n",
       "              ('admin1', 'Gedo'),\n",
       "              ('admin2', ''),\n",
       "              ('cc', 'SO')])]"
      ]
     },
     "execution_count": 2,
     "metadata": {},
     "output_type": "execute_result"
    }
   ],
   "source": [
    "#Data Visualization\n",
    "#Distric Name has unknown values \n",
    "#We are finding district names by using Latitudes and Longitudes Data\n",
    "\n",
    "#Imputing District Name Data using Latitiude and Longitude Information\n",
    "#reverse_geocoder is a function to get district name using Latitudes and Longitudes\n",
    "\n",
    "import reverse_geocoder as rg\n",
    "import pprint\n",
    "\n",
    "def reverseGeocode(coordinates):\n",
    "    result = rg.search(coordinates)\n",
    "    return result\n",
    "coordinates =(2.125, 41.340)\n",
    "a=reverseGeocode(coordinates)\n",
    "a"
   ]
  },
  {
   "cell_type": "code",
   "execution_count": 3,
   "metadata": {},
   "outputs": [
    {
     "data": {
      "text/plain": [
       "'Baardheere'"
      ]
     },
     "execution_count": 3,
     "metadata": {},
     "output_type": "execute_result"
    }
   ],
   "source": [
    "a[0]['name']"
   ]
  },
  {
   "cell_type": "code",
   "execution_count": 4,
   "metadata": {},
   "outputs": [
    {
     "name": "stderr",
     "output_type": "stream",
     "text": [
      "c:\\users\\teju\\appdata\\local\\programs\\python\\python36\\lib\\site-packages\\ipykernel_launcher.py:4: SettingWithCopyWarning: \n",
      "A value is trying to be set on a copy of a slice from a DataFrame\n",
      "\n",
      "See the caveats in the documentation: http://pandas.pydata.org/pandas-docs/stable/user_guide/indexing.html#returning-a-view-versus-a-copy\n",
      "  after removing the cwd from sys.path.\n"
     ]
    },
    {
     "data": {
      "text/html": [
       "<div>\n",
       "<style scoped>\n",
       "    .dataframe tbody tr th:only-of-type {\n",
       "        vertical-align: middle;\n",
       "    }\n",
       "\n",
       "    .dataframe tbody tr th {\n",
       "        vertical-align: top;\n",
       "    }\n",
       "\n",
       "    .dataframe thead th {\n",
       "        text-align: right;\n",
       "    }\n",
       "</style>\n",
       "<table border=\"1\" class=\"dataframe\">\n",
       "  <thead>\n",
       "    <tr style=\"text-align: right;\">\n",
       "      <th></th>\n",
       "      <th>Id</th>\n",
       "      <th>District Name</th>\n",
       "      <th>Neighborhood Name</th>\n",
       "      <th>Street</th>\n",
       "      <th>Weekday</th>\n",
       "      <th>Month</th>\n",
       "      <th>Day</th>\n",
       "      <th>Hour</th>\n",
       "      <th>Part of the day</th>\n",
       "      <th>Mild injuries</th>\n",
       "      <th>Serious injuries</th>\n",
       "      <th>Victims</th>\n",
       "      <th>Vehicles involved</th>\n",
       "      <th>Longitude</th>\n",
       "      <th>Latitude</th>\n",
       "    </tr>\n",
       "  </thead>\n",
       "  <tbody>\n",
       "    <tr>\n",
       "      <td>0</td>\n",
       "      <td>2017S008429</td>\n",
       "      <td>Baardheere</td>\n",
       "      <td>Unknown</td>\n",
       "      <td>Número 27                                     ...</td>\n",
       "      <td>Friday</td>\n",
       "      <td>October</td>\n",
       "      <td>13</td>\n",
       "      <td>8</td>\n",
       "      <td>Morning</td>\n",
       "      <td>2</td>\n",
       "      <td>0</td>\n",
       "      <td>2</td>\n",
       "      <td>2</td>\n",
       "      <td>2.125624</td>\n",
       "      <td>41.340045</td>\n",
       "    </tr>\n",
       "    <tr>\n",
       "      <td>1</td>\n",
       "      <td>2017S007316</td>\n",
       "      <td>Baardheere</td>\n",
       "      <td>Unknown</td>\n",
       "      <td>Número 3 Zona Franca / Número 50 Zona Franca  ...</td>\n",
       "      <td>Friday</td>\n",
       "      <td>September</td>\n",
       "      <td>1</td>\n",
       "      <td>13</td>\n",
       "      <td>Morning</td>\n",
       "      <td>2</td>\n",
       "      <td>0</td>\n",
       "      <td>2</td>\n",
       "      <td>2</td>\n",
       "      <td>2.120452</td>\n",
       "      <td>41.339426</td>\n",
       "    </tr>\n",
       "    <tr>\n",
       "      <td>2</td>\n",
       "      <td>2017S010210</td>\n",
       "      <td>Baardheere</td>\n",
       "      <td>Unknown</td>\n",
       "      <td>Litoral (Besòs)                               ...</td>\n",
       "      <td>Friday</td>\n",
       "      <td>December</td>\n",
       "      <td>8</td>\n",
       "      <td>21</td>\n",
       "      <td>Afternoon</td>\n",
       "      <td>5</td>\n",
       "      <td>0</td>\n",
       "      <td>5</td>\n",
       "      <td>2</td>\n",
       "      <td>2.167356</td>\n",
       "      <td>41.360885</td>\n",
       "    </tr>\n",
       "    <tr>\n",
       "      <td>3</td>\n",
       "      <td>2017S006364</td>\n",
       "      <td>Baardheere</td>\n",
       "      <td>Unknown</td>\n",
       "      <td>Número 3 Zona Franca                          ...</td>\n",
       "      <td>Friday</td>\n",
       "      <td>July</td>\n",
       "      <td>21</td>\n",
       "      <td>2</td>\n",
       "      <td>Night</td>\n",
       "      <td>1</td>\n",
       "      <td>0</td>\n",
       "      <td>1</td>\n",
       "      <td>2</td>\n",
       "      <td>2.124529</td>\n",
       "      <td>41.337668</td>\n",
       "    </tr>\n",
       "    <tr>\n",
       "      <td>4</td>\n",
       "      <td>2017S004615</td>\n",
       "      <td>Sant Martí</td>\n",
       "      <td>el Camp de l'Arpa del Clot</td>\n",
       "      <td>Las Navas de Tolosa                           ...</td>\n",
       "      <td>Thursday</td>\n",
       "      <td>May</td>\n",
       "      <td>25</td>\n",
       "      <td>14</td>\n",
       "      <td>Afternoon</td>\n",
       "      <td>1</td>\n",
       "      <td>0</td>\n",
       "      <td>1</td>\n",
       "      <td>3</td>\n",
       "      <td>2.185272</td>\n",
       "      <td>41.416365</td>\n",
       "    </tr>\n",
       "  </tbody>\n",
       "</table>\n",
       "</div>"
      ],
      "text/plain": [
       "                Id District Name           Neighborhood Name  \\\n",
       "0  2017S008429        Baardheere                     Unknown   \n",
       "1  2017S007316        Baardheere                     Unknown   \n",
       "2  2017S010210        Baardheere                     Unknown   \n",
       "3  2017S006364        Baardheere                     Unknown   \n",
       "4  2017S004615        Sant Martí  el Camp de l'Arpa del Clot   \n",
       "\n",
       "                                              Street   Weekday      Month  \\\n",
       "0  Número 27                                     ...    Friday    October   \n",
       "1  Número 3 Zona Franca / Número 50 Zona Franca  ...    Friday  September   \n",
       "2  Litoral (Besòs)                               ...    Friday   December   \n",
       "3  Número 3 Zona Franca                          ...    Friday       July   \n",
       "4  Las Navas de Tolosa                           ...  Thursday        May   \n",
       "\n",
       "   Day  Hour Part of the day  Mild injuries  Serious injuries  Victims  \\\n",
       "0   13     8         Morning              2                 0        2   \n",
       "1    1    13         Morning              2                 0        2   \n",
       "2    8    21       Afternoon              5                 0        5   \n",
       "3   21     2           Night              1                 0        1   \n",
       "4   25    14       Afternoon              1                 0        1   \n",
       "\n",
       "   Vehicles involved  Longitude   Latitude  \n",
       "0                  2   2.125624  41.340045  \n",
       "1                  2   2.120452  41.339426  \n",
       "2                  2   2.167356  41.360885  \n",
       "3                  2   2.124529  41.337668  \n",
       "4                  3   2.185272  41.416365  "
      ]
     },
     "execution_count": 4,
     "metadata": {},
     "output_type": "execute_result"
    }
   ],
   "source": [
    "for i in range(barcelona.shape[0]):\n",
    "    if barcelona['District Name'][i] == 'Unknown':\n",
    "        code= reverseGeocode((barcelona.Longitude[i], barcelona.Latitude[i]))\n",
    "        barcelona['District Name'][i]= code[0]['name']\n",
    "barcelona.head()"
   ]
  },
  {
   "cell_type": "code",
   "execution_count": 5,
   "metadata": {},
   "outputs": [
    {
     "name": "stdout",
     "output_type": "stream",
     "text": [
      "hour 0 is night\n",
      "hour 1 is night\n",
      "hour 2 is night\n",
      "hour 3 is night\n",
      "hour 4 is night\n",
      "hour 5 is morning\n",
      "hour 6 is morning\n",
      "hour 7 is morning\n",
      "hour 8 is morning\n",
      "hour 9 is morning\n",
      "hour 10 is morning\n",
      "hour 11 is morning\n",
      "hour 12 is afternoon\n",
      "hour 13 is afternoon\n",
      "hour 14 is afternoon\n",
      "hour 15 is afternoon\n",
      "hour 16 is afternoon\n",
      "hour 17 is afternoon\n",
      "hour 18 is evening\n",
      "hour 19 is evening\n",
      "hour 20 is evening\n",
      "hour 21 is evening\n",
      "hour 22 is evening\n",
      "hour 23 is night\n"
     ]
    }
   ],
   "source": [
    "#Part of the day correction\n",
    "#Hour of day not matching with part of the day...(13 ie 1pm is showed as Morning, 21 ie 9PM is shown as Afternoon)\n",
    "\n",
    "from sys import stdout\n",
    "\n",
    "\n",
    "def get_part_of_day(hour):\n",
    "    return (\n",
    "        \"morning\" if 5 <= hour <= 11\n",
    "        else\n",
    "        \"afternoon\" if 12 <= hour <= 17\n",
    "        else\n",
    "        \"evening\" if 18 <= hour <= 22\n",
    "        else\n",
    "        \"night\"\n",
    "    )\n",
    "for i in range(0, 24):\n",
    "    stdout.write('hour {0} is {1}\\n'.format(i, get_part_of_day(i)))"
   ]
  },
  {
   "cell_type": "code",
   "execution_count": 6,
   "metadata": {},
   "outputs": [
    {
     "name": "stderr",
     "output_type": "stream",
     "text": [
      "c:\\users\\teju\\appdata\\local\\programs\\python\\python36\\lib\\site-packages\\ipykernel_launcher.py:3: SettingWithCopyWarning: \n",
      "A value is trying to be set on a copy of a slice from a DataFrame\n",
      "\n",
      "See the caveats in the documentation: http://pandas.pydata.org/pandas-docs/stable/user_guide/indexing.html#returning-a-view-versus-a-copy\n",
      "  This is separate from the ipykernel package so we can avoid doing imports until\n"
     ]
    }
   ],
   "source": [
    "for i in range(barcelona.shape[0]):\n",
    "    code= get_part_of_day((barcelona.Hour[i]))\n",
    "    barcelona['Part of the day'][i]= code"
   ]
  },
  {
   "cell_type": "code",
   "execution_count": 7,
   "metadata": {},
   "outputs": [
    {
     "data": {
      "text/html": [
       "<div>\n",
       "<style scoped>\n",
       "    .dataframe tbody tr th:only-of-type {\n",
       "        vertical-align: middle;\n",
       "    }\n",
       "\n",
       "    .dataframe tbody tr th {\n",
       "        vertical-align: top;\n",
       "    }\n",
       "\n",
       "    .dataframe thead th {\n",
       "        text-align: right;\n",
       "    }\n",
       "</style>\n",
       "<table border=\"1\" class=\"dataframe\">\n",
       "  <thead>\n",
       "    <tr style=\"text-align: right;\">\n",
       "      <th></th>\n",
       "      <th>Id</th>\n",
       "      <th>District Name</th>\n",
       "      <th>Neighborhood Name</th>\n",
       "      <th>Street</th>\n",
       "      <th>Weekday</th>\n",
       "      <th>Month</th>\n",
       "      <th>Day</th>\n",
       "      <th>Hour</th>\n",
       "      <th>Part of the day</th>\n",
       "      <th>Mild injuries</th>\n",
       "      <th>Serious injuries</th>\n",
       "      <th>Victims</th>\n",
       "      <th>Vehicles involved</th>\n",
       "      <th>Longitude</th>\n",
       "      <th>Latitude</th>\n",
       "    </tr>\n",
       "  </thead>\n",
       "  <tbody>\n",
       "    <tr>\n",
       "      <td>0</td>\n",
       "      <td>2017S008429</td>\n",
       "      <td>Baardheere</td>\n",
       "      <td>Unknown</td>\n",
       "      <td>Número 27                                     ...</td>\n",
       "      <td>Friday</td>\n",
       "      <td>October</td>\n",
       "      <td>13</td>\n",
       "      <td>8</td>\n",
       "      <td>morning</td>\n",
       "      <td>2</td>\n",
       "      <td>0</td>\n",
       "      <td>2</td>\n",
       "      <td>2</td>\n",
       "      <td>2.125624</td>\n",
       "      <td>41.340045</td>\n",
       "    </tr>\n",
       "    <tr>\n",
       "      <td>1</td>\n",
       "      <td>2017S007316</td>\n",
       "      <td>Baardheere</td>\n",
       "      <td>Unknown</td>\n",
       "      <td>Número 3 Zona Franca / Número 50 Zona Franca  ...</td>\n",
       "      <td>Friday</td>\n",
       "      <td>September</td>\n",
       "      <td>1</td>\n",
       "      <td>13</td>\n",
       "      <td>afternoon</td>\n",
       "      <td>2</td>\n",
       "      <td>0</td>\n",
       "      <td>2</td>\n",
       "      <td>2</td>\n",
       "      <td>2.120452</td>\n",
       "      <td>41.339426</td>\n",
       "    </tr>\n",
       "    <tr>\n",
       "      <td>2</td>\n",
       "      <td>2017S010210</td>\n",
       "      <td>Baardheere</td>\n",
       "      <td>Unknown</td>\n",
       "      <td>Litoral (Besòs)                               ...</td>\n",
       "      <td>Friday</td>\n",
       "      <td>December</td>\n",
       "      <td>8</td>\n",
       "      <td>21</td>\n",
       "      <td>evening</td>\n",
       "      <td>5</td>\n",
       "      <td>0</td>\n",
       "      <td>5</td>\n",
       "      <td>2</td>\n",
       "      <td>2.167356</td>\n",
       "      <td>41.360885</td>\n",
       "    </tr>\n",
       "    <tr>\n",
       "      <td>3</td>\n",
       "      <td>2017S006364</td>\n",
       "      <td>Baardheere</td>\n",
       "      <td>Unknown</td>\n",
       "      <td>Número 3 Zona Franca                          ...</td>\n",
       "      <td>Friday</td>\n",
       "      <td>July</td>\n",
       "      <td>21</td>\n",
       "      <td>2</td>\n",
       "      <td>night</td>\n",
       "      <td>1</td>\n",
       "      <td>0</td>\n",
       "      <td>1</td>\n",
       "      <td>2</td>\n",
       "      <td>2.124529</td>\n",
       "      <td>41.337668</td>\n",
       "    </tr>\n",
       "    <tr>\n",
       "      <td>4</td>\n",
       "      <td>2017S004615</td>\n",
       "      <td>Sant Martí</td>\n",
       "      <td>el Camp de l'Arpa del Clot</td>\n",
       "      <td>Las Navas de Tolosa                           ...</td>\n",
       "      <td>Thursday</td>\n",
       "      <td>May</td>\n",
       "      <td>25</td>\n",
       "      <td>14</td>\n",
       "      <td>afternoon</td>\n",
       "      <td>1</td>\n",
       "      <td>0</td>\n",
       "      <td>1</td>\n",
       "      <td>3</td>\n",
       "      <td>2.185272</td>\n",
       "      <td>41.416365</td>\n",
       "    </tr>\n",
       "  </tbody>\n",
       "</table>\n",
       "</div>"
      ],
      "text/plain": [
       "                Id District Name           Neighborhood Name  \\\n",
       "0  2017S008429        Baardheere                     Unknown   \n",
       "1  2017S007316        Baardheere                     Unknown   \n",
       "2  2017S010210        Baardheere                     Unknown   \n",
       "3  2017S006364        Baardheere                     Unknown   \n",
       "4  2017S004615        Sant Martí  el Camp de l'Arpa del Clot   \n",
       "\n",
       "                                              Street   Weekday      Month  \\\n",
       "0  Número 27                                     ...    Friday    October   \n",
       "1  Número 3 Zona Franca / Número 50 Zona Franca  ...    Friday  September   \n",
       "2  Litoral (Besòs)                               ...    Friday   December   \n",
       "3  Número 3 Zona Franca                          ...    Friday       July   \n",
       "4  Las Navas de Tolosa                           ...  Thursday        May   \n",
       "\n",
       "   Day  Hour Part of the day  Mild injuries  Serious injuries  Victims  \\\n",
       "0   13     8         morning              2                 0        2   \n",
       "1    1    13       afternoon              2                 0        2   \n",
       "2    8    21         evening              5                 0        5   \n",
       "3   21     2           night              1                 0        1   \n",
       "4   25    14       afternoon              1                 0        1   \n",
       "\n",
       "   Vehicles involved  Longitude   Latitude  \n",
       "0                  2   2.125624  41.340045  \n",
       "1                  2   2.120452  41.339426  \n",
       "2                  2   2.167356  41.360885  \n",
       "3                  2   2.124529  41.337668  \n",
       "4                  3   2.185272  41.416365  "
      ]
     },
     "execution_count": 7,
     "metadata": {},
     "output_type": "execute_result"
    }
   ],
   "source": [
    "barcelona.head()"
   ]
  },
  {
   "cell_type": "code",
   "execution_count": 8,
   "metadata": {},
   "outputs": [],
   "source": [
    "import seaborn as sns\n",
    "%matplotlib inline\n",
    "from matplotlib import pyplot as plt\n",
    "from matplotlib import style\n"
   ]
  },
  {
   "cell_type": "code",
   "execution_count": 9,
   "metadata": {},
   "outputs": [],
   "source": [
    "#Top Districts prone to Accidents "
   ]
  },
  {
   "cell_type": "code",
   "execution_count": 10,
   "metadata": {},
   "outputs": [
    {
     "name": "stdout",
     "output_type": "stream",
     "text": [
      "Index(['Eixample', 'Sant Martí', 'Sants-Montjuïc', 'Sarrià-Sant Gervasi',\n",
      "       'Horta-Guinardó', 'Les Corts', 'Ciutat Vella', 'Sant Andreu',\n",
      "       'Nou Barris', 'Gràcia', 'Baardheere'],\n",
      "      dtype='object')\n"
     ]
    }
   ],
   "source": [
    "x = barcelona['District Name'].value_counts().index\n",
    "print(x)"
   ]
  },
  {
   "cell_type": "code",
   "execution_count": 11,
   "metadata": {},
   "outputs": [
    {
     "name": "stdout",
     "output_type": "stream",
     "text": [
      "Eixample               3029\n",
      "Sant Martí             1336\n",
      "Sants-Montjuïc         1104\n",
      "Sarrià-Sant Gervasi    1104\n",
      "Horta-Guinardó          743\n",
      "Les Corts               726\n",
      "Ciutat Vella            600\n",
      "Sant Andreu             597\n",
      "Nou Barris              542\n",
      "Gràcia                  531\n",
      "Baardheere               27\n",
      "Name: District Name, dtype: int64\n"
     ]
    }
   ],
   "source": [
    "y = barcelona['District Name'].value_counts()\n",
    "print(y)"
   ]
  },
  {
   "cell_type": "code",
   "execution_count": 12,
   "metadata": {},
   "outputs": [
    {
     "data": {
      "image/png": "[encoded data removed]",
      "text/plain": [
       "<Figure size 1440x432 with 1 Axes>"
      ]
     },
     "metadata": {
      "needs_background": "light"
     },
     "output_type": "display_data"
    }
   ],
   "source": [
    "plt.figure(figsize=(20,6))\n",
    "x = barcelona['District Name'].value_counts().index\n",
    "y = barcelona['District Name'].value_counts()\n",
    "ax = sns.barplot(x=x, y=y)\n",
    "plt.title(\"Districts with more accidents\", fontsize=20).set_weight('bold')\n",
    "#value_barplot_label(ax)\n",
    "plt.ylabel('# Accidents', fontsize=16).set_weight('bold')\n",
    "plt.xlabel('District', fontsize=16).set_weight('bold')\n",
    "plt.xticks(rotation=30)\n",
    "\n",
    "for p in ax.patches:\n",
    "    ax.annotate(format(p.get_height(), '.2f'), (p.get_x() + p.get_width() / 2., p.get_height()), ha = 'center', va = 'center', \n",
    "               xytext = (0, 10), textcoords = 'offset points')\n",
    "#tick_format(ax,1)"
   ]
  },
  {
   "cell_type": "code",
   "execution_count": 13,
   "metadata": {},
   "outputs": [],
   "source": [
    "#We can see that Eiample has more no of accidents and Baardheere has less Accidents "
   ]
  },
  {
   "cell_type": "code",
   "execution_count": 14,
   "metadata": {},
   "outputs": [
    {
     "data": {
      "image/png": "[encoded data removed]",
      "text/plain": [
       "<Figure size 936x432 with 1 Axes>"
      ]
     },
     "metadata": {
      "needs_background": "light"
     },
     "output_type": "display_data"
    }
   ],
   "source": [
    "plt.figure(figsize=(13,6))\n",
    "x = barcelona['Street'].value_counts().index[:10]\n",
    "y = barcelona['Street'].value_counts()[:10]\n",
    "splot = sns.barplot(x=x, y=y)\n",
    "plt.title(\"Top 10 Streets Prone to Accidents\", fontsize=20).set_weight('bold')\n",
    "#value_barplot_label(ax)\n",
    "plt.ylabel('# Accidents', fontsize=16)\n",
    "plt.xlabel('Street', fontsize=16)\n",
    "plt.xticks(rotation=20)\n",
    "\n",
    "for p in splot.patches:\n",
    "    splot.annotate(format(p.get_height(), '.2f'), (p.get_x() + p.get_width() / 2., p.get_height()), ha = 'center', va = 'center', \n",
    "               xytext = (0, 10), textcoords = 'offset points')\n",
    "#tick_format(ax,1)"
   ]
  },
  {
   "cell_type": "raw",
   "metadata": {},
   "source": [
    "#Corts Catalenes Street is prone to more no of Accidents"
   ]
  },
  {
   "cell_type": "code",
   "execution_count": 15,
   "metadata": {},
   "outputs": [
    {
     "data": {
      "image/png": "[encoded data removed]",
      "text/plain": [
       "<Figure size 936x432 with 1 Axes>"
      ]
     },
     "metadata": {
      "needs_background": "light"
     },
     "output_type": "display_data"
    }
   ],
   "source": [
    "#Which month is having more no of accidents \n",
    "import seaborn as sns\n",
    "%matplotlib inline\n",
    "from matplotlib import pyplot as plt\n",
    "from matplotlib import style\n",
    "\n",
    "plt.figure(figsize=(13,6))\n",
    "x = barcelona['Month'].value_counts().index\n",
    "y = barcelona['Month'].value_counts()\n",
    "splot = sns.barplot(x=x, y=y)\n",
    "plt.title(\"Which Month has more Accidents\", fontsize=20).set_weight('bold')\n",
    "#value_barplot_label(ax)\n",
    "plt.ylabel('# Accidents', fontsize=16)\n",
    "plt.xlabel('Month', fontsize=16)\n",
    "plt.xticks(rotation=20)\n",
    "\n",
    "for p in splot.patches:\n",
    "    splot.annotate(format(p.get_height(), '.2f'), (p.get_x() + p.get_width() / 2., p.get_height()), ha = 'center', va = 'center', \n",
    "               xytext = (0, 10), textcoords = 'offset points')\n",
    "#tick_format(ax,1)\n",
    "\n"
   ]
  },
  {
   "cell_type": "code",
   "execution_count": 16,
   "metadata": {},
   "outputs": [
    {
     "data": {
      "image/png": "[encoded data removed]",
      "text/plain": [
       "<Figure size 936x432 with 1 Axes>"
      ]
     },
     "metadata": {
      "needs_background": "light"
     },
     "output_type": "display_data"
    }
   ],
   "source": [
    "#Which day is having more no of accidents \n",
    "\n",
    "\n",
    "plt.figure(figsize=(13,6))\n",
    "x = barcelona['Weekday'].value_counts().index\n",
    "y = barcelona['Weekday'].value_counts()\n",
    "splot = sns.barplot(x=x, y=y)\n",
    "plt.title(\"Which Day has more Accidents\", fontsize=20).set_weight('bold')\n",
    "#value_barplot_label(ax)\n",
    "plt.ylabel('# Accidents', fontsize=16)\n",
    "plt.xlabel('Day', fontsize=16)\n",
    "plt.xticks(rotation=20)\n",
    "\n",
    "for p in splot.patches:\n",
    "    splot.annotate(format(p.get_height(), '.2f'), (p.get_x() + p.get_width() / 2., p.get_height()), ha = 'center', va = 'center', \n",
    "               xytext = (0, 10), textcoords = 'offset points')\n",
    "#tick_format(ax,1)"
   ]
  },
  {
   "cell_type": "code",
   "execution_count": 17,
   "metadata": {},
   "outputs": [],
   "source": [
    "#Weekday and Hour of day\n",
    "\n",
    "cross_tab = pd.crosstab(barcelona['Weekday'], barcelona['Part of the day']).apply(lambda x: x/x.sum() * 100, axis = 1).round(2)\n",
    "\n"
   ]
  },
  {
   "cell_type": "code",
   "execution_count": 18,
   "metadata": {},
   "outputs": [
    {
     "data": {
      "text/html": [
       "<div>\n",
       "<style scoped>\n",
       "    .dataframe tbody tr th:only-of-type {\n",
       "        vertical-align: middle;\n",
       "    }\n",
       "\n",
       "    .dataframe tbody tr th {\n",
       "        vertical-align: top;\n",
       "    }\n",
       "\n",
       "    .dataframe thead th {\n",
       "        text-align: right;\n",
       "    }\n",
       "</style>\n",
       "<table border=\"1\" class=\"dataframe\">\n",
       "  <thead>\n",
       "    <tr style=\"text-align: right;\">\n",
       "      <th>Part of the day</th>\n",
       "      <th>afternoon</th>\n",
       "      <th>evening</th>\n",
       "      <th>morning</th>\n",
       "      <th>night</th>\n",
       "      <th>id</th>\n",
       "    </tr>\n",
       "    <tr>\n",
       "      <th>Weekday</th>\n",
       "      <th></th>\n",
       "      <th></th>\n",
       "      <th></th>\n",
       "      <th></th>\n",
       "      <th></th>\n",
       "    </tr>\n",
       "  </thead>\n",
       "  <tbody>\n",
       "    <tr>\n",
       "      <td>Sunday</td>\n",
       "      <td>34.19</td>\n",
       "      <td>28.04</td>\n",
       "      <td>22.01</td>\n",
       "      <td>15.75</td>\n",
       "      <td>0</td>\n",
       "    </tr>\n",
       "    <tr>\n",
       "      <td>Monday</td>\n",
       "      <td>39.21</td>\n",
       "      <td>25.36</td>\n",
       "      <td>30.00</td>\n",
       "      <td>5.43</td>\n",
       "      <td>1</td>\n",
       "    </tr>\n",
       "    <tr>\n",
       "      <td>Tuesday</td>\n",
       "      <td>39.50</td>\n",
       "      <td>24.96</td>\n",
       "      <td>30.69</td>\n",
       "      <td>4.85</td>\n",
       "      <td>2</td>\n",
       "    </tr>\n",
       "    <tr>\n",
       "      <td>Wednesday</td>\n",
       "      <td>38.36</td>\n",
       "      <td>27.33</td>\n",
       "      <td>29.76</td>\n",
       "      <td>4.55</td>\n",
       "      <td>3</td>\n",
       "    </tr>\n",
       "    <tr>\n",
       "      <td>Thursday</td>\n",
       "      <td>39.00</td>\n",
       "      <td>27.31</td>\n",
       "      <td>28.26</td>\n",
       "      <td>5.43</td>\n",
       "      <td>4</td>\n",
       "    </tr>\n",
       "  </tbody>\n",
       "</table>\n",
       "</div>"
      ],
      "text/plain": [
       "Part of the day  afternoon  evening  morning  night  id\n",
       "Weekday                                                \n",
       "Sunday               34.19    28.04    22.01  15.75   0\n",
       "Monday               39.21    25.36    30.00   5.43   1\n",
       "Tuesday              39.50    24.96    30.69   4.85   2\n",
       "Wednesday            38.36    27.33    29.76   4.55   3\n",
       "Thursday             39.00    27.31    28.26   5.43   4"
      ]
     },
     "execution_count": 18,
     "metadata": {},
     "output_type": "execute_result"
    }
   ],
   "source": [
    "sorter = ['Sunday','Monday', 'Tuesday','Wednesday','Thursday','Friday','Saturday']\n",
    "sorterIndex = dict(zip(sorter, range(len(sorter))))\n",
    "\n",
    "cross_tab['id'] = cross_tab.index\n",
    "cross_tab['id'] = cross_tab['id'].map(sorterIndex)\n",
    "cross_tab.sort_values('id',inplace=True)\n",
    "cross_tab.head()\n"
   ]
  },
  {
   "cell_type": "code",
   "execution_count": 19,
   "metadata": {},
   "outputs": [
    {
     "data": {
      "image/png": "[encoded data removed]",
      "text/plain": [
       "<Figure size 432x288 with 1 Axes>"
      ]
     },
     "metadata": {
      "needs_background": "light"
     },
     "output_type": "display_data"
    },
    {
     "data": {
      "text/plain": [
       "<Figure size 1440x720 with 0 Axes>"
      ]
     },
     "metadata": {},
     "output_type": "display_data"
    }
   ],
   "source": [
    "acc=cross_tab.drop(['id'],axis=1)\n",
    "acc.plot.bar()\n",
    "\n",
    "plt.xlabel('{}'.format('Weekday'))\n",
    "plt.ylabel('% of {}'.format('Part of the day'))\n",
    "plt.title('{} Vs {}'.format('Weekday','Part of the day'))\n",
    "plt.xticks(rotation=10)\n",
    "plt.figure(figsize=(20,10))\n",
    "plt.show()\n",
    "\n"
   ]
  },
  {
   "cell_type": "code",
   "execution_count": 20,
   "metadata": {},
   "outputs": [],
   "source": [
    "#There are more no of accidents in Afternoon especially Friday Afternoon\n",
    "#Less no of accidents in the night compared to evening and afternoon\n",
    "#Saturday and Sunday morning have less no of accidents  compared to weekdays, this might be because of holidays \n",
    "#Saturday and Sunday evenings, nights have more no of accidents  compared to weekdays, this might be because of weekend journeys \n"
   ]
  },
  {
   "cell_type": "code",
   "execution_count": 21,
   "metadata": {},
   "outputs": [
    {
     "name": "stdout",
     "output_type": "stream",
     "text": [
      "     Weekday  Mild injuries  Serious injuries\n",
      "0     Friday           1984                44\n",
      "1     Monday           1725                27\n",
      "2   Saturday           1414                33\n",
      "3     Sunday           1047                39\n",
      "4   Thursday           1946                33\n",
      "5    Tuesday           1946                34\n",
      "6  Wednesday           1871                31\n"
     ]
    }
   ],
   "source": [
    "#Grouping by Mild Injuries and Serious Injuries\n",
    "import numpy as np\n",
    "import pandas as pd\n",
    "injuries = barcelona.groupby('Weekday')['Mild injuries','Serious injuries'].sum()\n",
    "#s=barcelona.groupby('Weekday')['Serious injuries'].mean()\n",
    "\n",
    "print(injuries.reset_index())"
   ]
  },
  {
   "cell_type": "code",
   "execution_count": 22,
   "metadata": {},
   "outputs": [
    {
     "data": {
      "text/html": [
       "<div>\n",
       "<style scoped>\n",
       "    .dataframe tbody tr th:only-of-type {\n",
       "        vertical-align: middle;\n",
       "    }\n",
       "\n",
       "    .dataframe tbody tr th {\n",
       "        vertical-align: top;\n",
       "    }\n",
       "\n",
       "    .dataframe thead th {\n",
       "        text-align: right;\n",
       "    }\n",
       "</style>\n",
       "<table border=\"1\" class=\"dataframe\">\n",
       "  <thead>\n",
       "    <tr style=\"text-align: right;\">\n",
       "      <th></th>\n",
       "      <th>Mild injuries</th>\n",
       "      <th>Serious injuries</th>\n",
       "    </tr>\n",
       "    <tr>\n",
       "      <th>Weekday</th>\n",
       "      <th></th>\n",
       "      <th></th>\n",
       "    </tr>\n",
       "  </thead>\n",
       "  <tbody>\n",
       "    <tr>\n",
       "      <td>Friday</td>\n",
       "      <td>1984</td>\n",
       "      <td>44</td>\n",
       "    </tr>\n",
       "    <tr>\n",
       "      <td>Monday</td>\n",
       "      <td>1725</td>\n",
       "      <td>27</td>\n",
       "    </tr>\n",
       "    <tr>\n",
       "      <td>Saturday</td>\n",
       "      <td>1414</td>\n",
       "      <td>33</td>\n",
       "    </tr>\n",
       "    <tr>\n",
       "      <td>Sunday</td>\n",
       "      <td>1047</td>\n",
       "      <td>39</td>\n",
       "    </tr>\n",
       "    <tr>\n",
       "      <td>Thursday</td>\n",
       "      <td>1946</td>\n",
       "      <td>33</td>\n",
       "    </tr>\n",
       "  </tbody>\n",
       "</table>\n",
       "</div>"
      ],
      "text/plain": [
       "          Mild injuries  Serious injuries\n",
       "Weekday                                  \n",
       "Friday             1984                44\n",
       "Monday             1725                27\n",
       "Saturday           1414                33\n",
       "Sunday             1047                39\n",
       "Thursday           1946                33"
      ]
     },
     "execution_count": 22,
     "metadata": {},
     "output_type": "execute_result"
    }
   ],
   "source": [
    "#Converting Injuries to Dataframe\n",
    "injuries_df = pd.DataFrame(injuries)\n",
    "injuries_df.head()"
   ]
  },
  {
   "cell_type": "code",
   "execution_count": 23,
   "metadata": {},
   "outputs": [
    {
     "name": "stdout",
     "output_type": "stream",
     "text": [
      "{'Sunday': 0, 'Monday': 1, 'Tuesday': 2, 'Wednesday': 3, 'Thursday': 4, 'Friday': 5, 'Saturday': 6}\n"
     ]
    }
   ],
   "source": [
    "#Sorting Day in Order\n",
    "sorter = ['Sunday','Monday', 'Tuesday','Wednesday','Thursday','Friday','Saturday']\n",
    "sorterIndex = dict(zip(sorter, range(len(sorter))))\n",
    "print(sorterIndex)"
   ]
  },
  {
   "cell_type": "code",
   "execution_count": 24,
   "metadata": {},
   "outputs": [
    {
     "data": {
      "text/html": [
       "<div>\n",
       "<style scoped>\n",
       "    .dataframe tbody tr th:only-of-type {\n",
       "        vertical-align: middle;\n",
       "    }\n",
       "\n",
       "    .dataframe tbody tr th {\n",
       "        vertical-align: top;\n",
       "    }\n",
       "\n",
       "    .dataframe thead th {\n",
       "        text-align: right;\n",
       "    }\n",
       "</style>\n",
       "<table border=\"1\" class=\"dataframe\">\n",
       "  <thead>\n",
       "    <tr style=\"text-align: right;\">\n",
       "      <th></th>\n",
       "      <th>Mild injuries</th>\n",
       "      <th>Serious injuries</th>\n",
       "      <th>Day_id</th>\n",
       "    </tr>\n",
       "    <tr>\n",
       "      <th>Weekday</th>\n",
       "      <th></th>\n",
       "      <th></th>\n",
       "      <th></th>\n",
       "    </tr>\n",
       "  </thead>\n",
       "  <tbody>\n",
       "    <tr>\n",
       "      <td>Friday</td>\n",
       "      <td>1984</td>\n",
       "      <td>44</td>\n",
       "      <td>5</td>\n",
       "    </tr>\n",
       "    <tr>\n",
       "      <td>Monday</td>\n",
       "      <td>1725</td>\n",
       "      <td>27</td>\n",
       "      <td>1</td>\n",
       "    </tr>\n",
       "    <tr>\n",
       "      <td>Saturday</td>\n",
       "      <td>1414</td>\n",
       "      <td>33</td>\n",
       "      <td>6</td>\n",
       "    </tr>\n",
       "    <tr>\n",
       "      <td>Sunday</td>\n",
       "      <td>1047</td>\n",
       "      <td>39</td>\n",
       "      <td>0</td>\n",
       "    </tr>\n",
       "    <tr>\n",
       "      <td>Thursday</td>\n",
       "      <td>1946</td>\n",
       "      <td>33</td>\n",
       "      <td>4</td>\n",
       "    </tr>\n",
       "  </tbody>\n",
       "</table>\n",
       "</div>"
      ],
      "text/plain": [
       "          Mild injuries  Serious injuries  Day_id\n",
       "Weekday                                          \n",
       "Friday             1984                44       5\n",
       "Monday             1725                27       1\n",
       "Saturday           1414                33       6\n",
       "Sunday             1047                39       0\n",
       "Thursday           1946                33       4"
      ]
     },
     "execution_count": 24,
     "metadata": {},
     "output_type": "execute_result"
    }
   ],
   "source": [
    "# Map the day_of_week to the required sort index\n",
    "injuries_df['Day_id'] = injuries_df.index\n",
    "injuries_df['Day_id'] = injuries_df['Day_id'].map(sorterIndex)\n",
    "injuries_df.head()"
   ]
  },
  {
   "cell_type": "code",
   "execution_count": 25,
   "metadata": {},
   "outputs": [
    {
     "data": {
      "text/html": [
       "<div>\n",
       "<style scoped>\n",
       "    .dataframe tbody tr th:only-of-type {\n",
       "        vertical-align: middle;\n",
       "    }\n",
       "\n",
       "    .dataframe tbody tr th {\n",
       "        vertical-align: top;\n",
       "    }\n",
       "\n",
       "    .dataframe thead th {\n",
       "        text-align: right;\n",
       "    }\n",
       "</style>\n",
       "<table border=\"1\" class=\"dataframe\">\n",
       "  <thead>\n",
       "    <tr style=\"text-align: right;\">\n",
       "      <th></th>\n",
       "      <th>Mild injuries</th>\n",
       "      <th>Serious injuries</th>\n",
       "      <th>Day_id</th>\n",
       "    </tr>\n",
       "    <tr>\n",
       "      <th>Weekday</th>\n",
       "      <th></th>\n",
       "      <th></th>\n",
       "      <th></th>\n",
       "    </tr>\n",
       "  </thead>\n",
       "  <tbody>\n",
       "    <tr>\n",
       "      <td>Sunday</td>\n",
       "      <td>1047</td>\n",
       "      <td>39</td>\n",
       "      <td>0</td>\n",
       "    </tr>\n",
       "    <tr>\n",
       "      <td>Monday</td>\n",
       "      <td>1725</td>\n",
       "      <td>27</td>\n",
       "      <td>1</td>\n",
       "    </tr>\n",
       "    <tr>\n",
       "      <td>Tuesday</td>\n",
       "      <td>1946</td>\n",
       "      <td>34</td>\n",
       "      <td>2</td>\n",
       "    </tr>\n",
       "    <tr>\n",
       "      <td>Wednesday</td>\n",
       "      <td>1871</td>\n",
       "      <td>31</td>\n",
       "      <td>3</td>\n",
       "    </tr>\n",
       "    <tr>\n",
       "      <td>Thursday</td>\n",
       "      <td>1946</td>\n",
       "      <td>33</td>\n",
       "      <td>4</td>\n",
       "    </tr>\n",
       "  </tbody>\n",
       "</table>\n",
       "</div>"
      ],
      "text/plain": [
       "           Mild injuries  Serious injuries  Day_id\n",
       "Weekday                                           \n",
       "Sunday              1047                39       0\n",
       "Monday              1725                27       1\n",
       "Tuesday             1946                34       2\n",
       "Wednesday           1871                31       3\n",
       "Thursday            1946                33       4"
      ]
     },
     "execution_count": 25,
     "metadata": {},
     "output_type": "execute_result"
    }
   ],
   "source": [
    "injuries_df.sort_values('Day_id',inplace=True)\n",
    "injuries_df.head()"
   ]
  },
  {
   "cell_type": "code",
   "execution_count": 26,
   "metadata": {},
   "outputs": [
    {
     "data": {
      "image/png": "[encoded data removed]",
      "text/plain": [
       "<Figure size 864x576 with 1 Axes>"
      ]
     },
     "metadata": {
      "needs_background": "light"
     },
     "output_type": "display_data"
    }
   ],
   "source": [
    "import seaborn as sns\n",
    "%matplotlib inline\n",
    "from matplotlib import pyplot as plt\n",
    "from matplotlib import style\n",
    "\n",
    "injuries_df=injuries_df.reset_index()\n",
    "injuries_df.plot(y=['Mild injuries', 'Serious injuries'], x='Weekday', kind='bar', figsize=(12,8))\n",
    "plt.xlabel('Weekdays',fontsize=12)\n",
    "plt.xticks(rotation=45)\n",
    "plt.ylabel('Injuries',fontsize=12)\n",
    "plt.title(\"Injuries during All days\",fontsize=15)\n",
    "plt.show()"
   ]
  },
  {
   "cell_type": "code",
   "execution_count": 27,
   "metadata": {},
   "outputs": [
    {
     "data": {
      "text/html": [
       "<div>\n",
       "<style scoped>\n",
       "    .dataframe tbody tr th:only-of-type {\n",
       "        vertical-align: middle;\n",
       "    }\n",
       "\n",
       "    .dataframe tbody tr th {\n",
       "        vertical-align: top;\n",
       "    }\n",
       "\n",
       "    .dataframe thead th {\n",
       "        text-align: right;\n",
       "    }\n",
       "</style>\n",
       "<table border=\"1\" class=\"dataframe\">\n",
       "  <thead>\n",
       "    <tr style=\"text-align: right;\">\n",
       "      <th></th>\n",
       "      <th>Weekday</th>\n",
       "      <th>Mild injuries</th>\n",
       "      <th>Serious injuries</th>\n",
       "      <th>Day_id</th>\n",
       "    </tr>\n",
       "  </thead>\n",
       "  <tbody>\n",
       "    <tr>\n",
       "      <td>0</td>\n",
       "      <td>Sunday</td>\n",
       "      <td>0.000000</td>\n",
       "      <td>0.705882</td>\n",
       "      <td>0</td>\n",
       "    </tr>\n",
       "    <tr>\n",
       "      <td>1</td>\n",
       "      <td>Monday</td>\n",
       "      <td>0.723586</td>\n",
       "      <td>0.000000</td>\n",
       "      <td>1</td>\n",
       "    </tr>\n",
       "    <tr>\n",
       "      <td>2</td>\n",
       "      <td>Tuesday</td>\n",
       "      <td>0.959445</td>\n",
       "      <td>0.411765</td>\n",
       "      <td>2</td>\n",
       "    </tr>\n",
       "    <tr>\n",
       "      <td>3</td>\n",
       "      <td>Wednesday</td>\n",
       "      <td>0.879402</td>\n",
       "      <td>0.235294</td>\n",
       "      <td>3</td>\n",
       "    </tr>\n",
       "    <tr>\n",
       "      <td>4</td>\n",
       "      <td>Thursday</td>\n",
       "      <td>0.959445</td>\n",
       "      <td>0.352941</td>\n",
       "      <td>4</td>\n",
       "    </tr>\n",
       "  </tbody>\n",
       "</table>\n",
       "</div>"
      ],
      "text/plain": [
       "     Weekday  Mild injuries  Serious injuries  Day_id\n",
       "0     Sunday       0.000000          0.705882       0\n",
       "1     Monday       0.723586          0.000000       1\n",
       "2    Tuesday       0.959445          0.411765       2\n",
       "3  Wednesday       0.879402          0.235294       3\n",
       "4   Thursday       0.959445          0.352941       4"
      ]
     },
     "execution_count": 27,
     "metadata": {},
     "output_type": "execute_result"
    }
   ],
   "source": [
    "# Mild Injuries and Serious Injuries are not under one scale.Mild injuries are in 1000's\n",
    "#and Serious injuries are below 100. Normalizing using Minmax Scaler to bring under one scale \n",
    "\n",
    "from sklearn.preprocessing import MinMaxScaler \n",
    "std=MinMaxScaler()\n",
    "cols=['Mild injuries','Serious injuries']\n",
    "injuries_df[cols]=std.fit_transform(injuries_df[cols].values)\n",
    "\n",
    "injuries_df.head()"
   ]
  },
  {
   "cell_type": "code",
   "execution_count": 28,
   "metadata": {},
   "outputs": [
    {
     "data": {
      "image/png": "[encoded data removed]",
      "text/plain": [
       "<Figure size 864x576 with 1 Axes>"
      ]
     },
     "metadata": {
      "needs_background": "light"
     },
     "output_type": "display_data"
    }
   ],
   "source": [
    "injuries_df.plot(y=['Mild injuries','Serious injuries'],x='Weekday',kind='bar',figsize=(12,8))\n",
    "plt.xlabel('Weekday',fontsize=12)\n",
    "plt.xticks(rotation=45)\n",
    "plt.ylabel('Injuries',fontsize=12)\n",
    "plt.title(\"Injuries in Week\",fontsize=15)\n",
    "plt.show()"
   ]
  },
  {
   "cell_type": "code",
   "execution_count": 29,
   "metadata": {},
   "outputs": [
    {
     "data": {
      "text/html": [
       "<div>\n",
       "<style scoped>\n",
       "    .dataframe tbody tr th:only-of-type {\n",
       "        vertical-align: middle;\n",
       "    }\n",
       "\n",
       "    .dataframe tbody tr th {\n",
       "        vertical-align: top;\n",
       "    }\n",
       "\n",
       "    .dataframe thead th {\n",
       "        text-align: right;\n",
       "    }\n",
       "</style>\n",
       "<table border=\"1\" class=\"dataframe\">\n",
       "  <thead>\n",
       "    <tr style=\"text-align: right;\">\n",
       "      <th></th>\n",
       "      <th>Id</th>\n",
       "      <th>District Name</th>\n",
       "      <th>Neighborhood Name</th>\n",
       "      <th>Street</th>\n",
       "      <th>Weekday</th>\n",
       "      <th>Month</th>\n",
       "      <th>Day</th>\n",
       "      <th>Hour</th>\n",
       "      <th>Part of the day</th>\n",
       "      <th>Mild injuries</th>\n",
       "      <th>Serious injuries</th>\n",
       "      <th>Victims</th>\n",
       "      <th>Vehicles involved</th>\n",
       "      <th>Longitude</th>\n",
       "      <th>Latitude</th>\n",
       "    </tr>\n",
       "  </thead>\n",
       "  <tbody>\n",
       "    <tr>\n",
       "      <td>0</td>\n",
       "      <td>2017S008429</td>\n",
       "      <td>Baardheere</td>\n",
       "      <td>Unknown</td>\n",
       "      <td>Número 27                                     ...</td>\n",
       "      <td>Friday</td>\n",
       "      <td>October</td>\n",
       "      <td>13</td>\n",
       "      <td>8</td>\n",
       "      <td>morning</td>\n",
       "      <td>2</td>\n",
       "      <td>0</td>\n",
       "      <td>2</td>\n",
       "      <td>2</td>\n",
       "      <td>2.125624</td>\n",
       "      <td>41.340045</td>\n",
       "    </tr>\n",
       "    <tr>\n",
       "      <td>1</td>\n",
       "      <td>2017S007316</td>\n",
       "      <td>Baardheere</td>\n",
       "      <td>Unknown</td>\n",
       "      <td>Número 3 Zona Franca / Número 50 Zona Franca  ...</td>\n",
       "      <td>Friday</td>\n",
       "      <td>September</td>\n",
       "      <td>1</td>\n",
       "      <td>13</td>\n",
       "      <td>afternoon</td>\n",
       "      <td>2</td>\n",
       "      <td>0</td>\n",
       "      <td>2</td>\n",
       "      <td>2</td>\n",
       "      <td>2.120452</td>\n",
       "      <td>41.339426</td>\n",
       "    </tr>\n",
       "    <tr>\n",
       "      <td>2</td>\n",
       "      <td>2017S010210</td>\n",
       "      <td>Baardheere</td>\n",
       "      <td>Unknown</td>\n",
       "      <td>Litoral (Besòs)                               ...</td>\n",
       "      <td>Friday</td>\n",
       "      <td>December</td>\n",
       "      <td>8</td>\n",
       "      <td>21</td>\n",
       "      <td>evening</td>\n",
       "      <td>5</td>\n",
       "      <td>0</td>\n",
       "      <td>5</td>\n",
       "      <td>2</td>\n",
       "      <td>2.167356</td>\n",
       "      <td>41.360885</td>\n",
       "    </tr>\n",
       "    <tr>\n",
       "      <td>3</td>\n",
       "      <td>2017S006364</td>\n",
       "      <td>Baardheere</td>\n",
       "      <td>Unknown</td>\n",
       "      <td>Número 3 Zona Franca                          ...</td>\n",
       "      <td>Friday</td>\n",
       "      <td>July</td>\n",
       "      <td>21</td>\n",
       "      <td>2</td>\n",
       "      <td>night</td>\n",
       "      <td>1</td>\n",
       "      <td>0</td>\n",
       "      <td>1</td>\n",
       "      <td>2</td>\n",
       "      <td>2.124529</td>\n",
       "      <td>41.337668</td>\n",
       "    </tr>\n",
       "    <tr>\n",
       "      <td>4</td>\n",
       "      <td>2017S004615</td>\n",
       "      <td>Sant Martí</td>\n",
       "      <td>el Camp de l'Arpa del Clot</td>\n",
       "      <td>Las Navas de Tolosa                           ...</td>\n",
       "      <td>Thursday</td>\n",
       "      <td>May</td>\n",
       "      <td>25</td>\n",
       "      <td>14</td>\n",
       "      <td>afternoon</td>\n",
       "      <td>1</td>\n",
       "      <td>0</td>\n",
       "      <td>1</td>\n",
       "      <td>3</td>\n",
       "      <td>2.185272</td>\n",
       "      <td>41.416365</td>\n",
       "    </tr>\n",
       "  </tbody>\n",
       "</table>\n",
       "</div>"
      ],
      "text/plain": [
       "                Id District Name           Neighborhood Name  \\\n",
       "0  2017S008429        Baardheere                     Unknown   \n",
       "1  2017S007316        Baardheere                     Unknown   \n",
       "2  2017S010210        Baardheere                     Unknown   \n",
       "3  2017S006364        Baardheere                     Unknown   \n",
       "4  2017S004615        Sant Martí  el Camp de l'Arpa del Clot   \n",
       "\n",
       "                                              Street   Weekday      Month  \\\n",
       "0  Número 27                                     ...    Friday    October   \n",
       "1  Número 3 Zona Franca / Número 50 Zona Franca  ...    Friday  September   \n",
       "2  Litoral (Besòs)                               ...    Friday   December   \n",
       "3  Número 3 Zona Franca                          ...    Friday       July   \n",
       "4  Las Navas de Tolosa                           ...  Thursday        May   \n",
       "\n",
       "   Day  Hour Part of the day  Mild injuries  Serious injuries  Victims  \\\n",
       "0   13     8         morning              2                 0        2   \n",
       "1    1    13       afternoon              2                 0        2   \n",
       "2    8    21         evening              5                 0        5   \n",
       "3   21     2           night              1                 0        1   \n",
       "4   25    14       afternoon              1                 0        1   \n",
       "\n",
       "   Vehicles involved  Longitude   Latitude  \n",
       "0                  2   2.125624  41.340045  \n",
       "1                  2   2.120452  41.339426  \n",
       "2                  2   2.167356  41.360885  \n",
       "3                  2   2.124529  41.337668  \n",
       "4                  3   2.185272  41.416365  "
      ]
     },
     "execution_count": 29,
     "metadata": {},
     "output_type": "execute_result"
    }
   ],
   "source": [
    "barcelona.head()"
   ]
  },
  {
   "cell_type": "code",
   "execution_count": 30,
   "metadata": {},
   "outputs": [
    {
     "name": "stdout",
     "output_type": "stream",
     "text": [
      "  Part of the day  Mild injuries  Serious injuries\n",
      "0       afternoon           4722                68\n",
      "1         evening           3242                83\n",
      "2         morning           3151                63\n",
      "3           night            818                27\n"
     ]
    }
   ],
   "source": [
    "#Part of day vs Injuries\n",
    "timeofday = barcelona.groupby('Part of the day')['Mild injuries','Serious injuries'].sum()\n",
    "print(timeofday.reset_index())"
   ]
  },
  {
   "cell_type": "code",
   "execution_count": 31,
   "metadata": {},
   "outputs": [
    {
     "name": "stdout",
     "output_type": "stream",
     "text": [
      "{'morning': 0, 'afternoon': 1, 'evening': 2, 'night': 3}\n"
     ]
    }
   ],
   "source": [
    "timeofday_df = pd.DataFrame(timeofday)\n",
    "sort = ['morning','afternoon','evening','night']\n",
    "sortIndex = dict(zip(sort, range(len(sort))))\n",
    "print(sortIndex)"
   ]
  },
  {
   "cell_type": "code",
   "execution_count": 32,
   "metadata": {},
   "outputs": [
    {
     "data": {
      "text/html": [
       "<div>\n",
       "<style scoped>\n",
       "    .dataframe tbody tr th:only-of-type {\n",
       "        vertical-align: middle;\n",
       "    }\n",
       "\n",
       "    .dataframe tbody tr th {\n",
       "        vertical-align: top;\n",
       "    }\n",
       "\n",
       "    .dataframe thead th {\n",
       "        text-align: right;\n",
       "    }\n",
       "</style>\n",
       "<table border=\"1\" class=\"dataframe\">\n",
       "  <thead>\n",
       "    <tr style=\"text-align: right;\">\n",
       "      <th></th>\n",
       "      <th>Mild injuries</th>\n",
       "      <th>Serious injuries</th>\n",
       "      <th>Time_id</th>\n",
       "    </tr>\n",
       "    <tr>\n",
       "      <th>Part of the day</th>\n",
       "      <th></th>\n",
       "      <th></th>\n",
       "      <th></th>\n",
       "    </tr>\n",
       "  </thead>\n",
       "  <tbody>\n",
       "    <tr>\n",
       "      <td>afternoon</td>\n",
       "      <td>4722</td>\n",
       "      <td>68</td>\n",
       "      <td>1</td>\n",
       "    </tr>\n",
       "    <tr>\n",
       "      <td>evening</td>\n",
       "      <td>3242</td>\n",
       "      <td>83</td>\n",
       "      <td>2</td>\n",
       "    </tr>\n",
       "    <tr>\n",
       "      <td>morning</td>\n",
       "      <td>3151</td>\n",
       "      <td>63</td>\n",
       "      <td>0</td>\n",
       "    </tr>\n",
       "    <tr>\n",
       "      <td>night</td>\n",
       "      <td>818</td>\n",
       "      <td>27</td>\n",
       "      <td>3</td>\n",
       "    </tr>\n",
       "  </tbody>\n",
       "</table>\n",
       "</div>"
      ],
      "text/plain": [
       "                 Mild injuries  Serious injuries  Time_id\n",
       "Part of the day                                          \n",
       "afternoon                 4722                68        1\n",
       "evening                   3242                83        2\n",
       "morning                   3151                63        0\n",
       "night                      818                27        3"
      ]
     },
     "execution_count": 32,
     "metadata": {},
     "output_type": "execute_result"
    }
   ],
   "source": [
    "timeofday_df['Time_id'] = timeofday_df.index\n",
    "timeofday_df['Time_id'] = timeofday_df['Time_id'].map(sortIndex)\n",
    "timeofday_df.head()"
   ]
  },
  {
   "cell_type": "code",
   "execution_count": 33,
   "metadata": {},
   "outputs": [
    {
     "data": {
      "text/html": [
       "<div>\n",
       "<style scoped>\n",
       "    .dataframe tbody tr th:only-of-type {\n",
       "        vertical-align: middle;\n",
       "    }\n",
       "\n",
       "    .dataframe tbody tr th {\n",
       "        vertical-align: top;\n",
       "    }\n",
       "\n",
       "    .dataframe thead th {\n",
       "        text-align: right;\n",
       "    }\n",
       "</style>\n",
       "<table border=\"1\" class=\"dataframe\">\n",
       "  <thead>\n",
       "    <tr style=\"text-align: right;\">\n",
       "      <th></th>\n",
       "      <th>Mild injuries</th>\n",
       "      <th>Serious injuries</th>\n",
       "      <th>Time_id</th>\n",
       "    </tr>\n",
       "    <tr>\n",
       "      <th>Part of the day</th>\n",
       "      <th></th>\n",
       "      <th></th>\n",
       "      <th></th>\n",
       "    </tr>\n",
       "  </thead>\n",
       "  <tbody>\n",
       "    <tr>\n",
       "      <td>morning</td>\n",
       "      <td>3151</td>\n",
       "      <td>63</td>\n",
       "      <td>0</td>\n",
       "    </tr>\n",
       "    <tr>\n",
       "      <td>afternoon</td>\n",
       "      <td>4722</td>\n",
       "      <td>68</td>\n",
       "      <td>1</td>\n",
       "    </tr>\n",
       "    <tr>\n",
       "      <td>evening</td>\n",
       "      <td>3242</td>\n",
       "      <td>83</td>\n",
       "      <td>2</td>\n",
       "    </tr>\n",
       "    <tr>\n",
       "      <td>night</td>\n",
       "      <td>818</td>\n",
       "      <td>27</td>\n",
       "      <td>3</td>\n",
       "    </tr>\n",
       "  </tbody>\n",
       "</table>\n",
       "</div>"
      ],
      "text/plain": [
       "                 Mild injuries  Serious injuries  Time_id\n",
       "Part of the day                                          \n",
       "morning                   3151                63        0\n",
       "afternoon                 4722                68        1\n",
       "evening                   3242                83        2\n",
       "night                      818                27        3"
      ]
     },
     "execution_count": 33,
     "metadata": {},
     "output_type": "execute_result"
    }
   ],
   "source": [
    "timeofday_df.sort_values('Time_id',inplace=True)\n",
    "timeofday_df.head()"
   ]
  },
  {
   "cell_type": "code",
   "execution_count": 34,
   "metadata": {},
   "outputs": [
    {
     "data": {
      "text/html": [
       "<div>\n",
       "<style scoped>\n",
       "    .dataframe tbody tr th:only-of-type {\n",
       "        vertical-align: middle;\n",
       "    }\n",
       "\n",
       "    .dataframe tbody tr th {\n",
       "        vertical-align: top;\n",
       "    }\n",
       "\n",
       "    .dataframe thead th {\n",
       "        text-align: right;\n",
       "    }\n",
       "</style>\n",
       "<table border=\"1\" class=\"dataframe\">\n",
       "  <thead>\n",
       "    <tr style=\"text-align: right;\">\n",
       "      <th></th>\n",
       "      <th>Part of the day</th>\n",
       "      <th>Mild injuries</th>\n",
       "      <th>Serious injuries</th>\n",
       "      <th>Time_id</th>\n",
       "    </tr>\n",
       "  </thead>\n",
       "  <tbody>\n",
       "    <tr>\n",
       "      <td>0</td>\n",
       "      <td>morning</td>\n",
       "      <td>3151</td>\n",
       "      <td>63</td>\n",
       "      <td>0</td>\n",
       "    </tr>\n",
       "    <tr>\n",
       "      <td>1</td>\n",
       "      <td>afternoon</td>\n",
       "      <td>4722</td>\n",
       "      <td>68</td>\n",
       "      <td>1</td>\n",
       "    </tr>\n",
       "    <tr>\n",
       "      <td>2</td>\n",
       "      <td>evening</td>\n",
       "      <td>3242</td>\n",
       "      <td>83</td>\n",
       "      <td>2</td>\n",
       "    </tr>\n",
       "    <tr>\n",
       "      <td>3</td>\n",
       "      <td>night</td>\n",
       "      <td>818</td>\n",
       "      <td>27</td>\n",
       "      <td>3</td>\n",
       "    </tr>\n",
       "  </tbody>\n",
       "</table>\n",
       "</div>"
      ],
      "text/plain": [
       "  Part of the day  Mild injuries  Serious injuries  Time_id\n",
       "0         morning           3151                63        0\n",
       "1       afternoon           4722                68        1\n",
       "2         evening           3242                83        2\n",
       "3           night            818                27        3"
      ]
     },
     "execution_count": 34,
     "metadata": {},
     "output_type": "execute_result"
    }
   ],
   "source": [
    "timeofday_df = timeofday_df.reset_index()\n",
    "timeofday_df.head()"
   ]
  },
  {
   "cell_type": "code",
   "execution_count": 35,
   "metadata": {},
   "outputs": [
    {
     "data": {
      "text/html": [
       "<div>\n",
       "<style scoped>\n",
       "    .dataframe tbody tr th:only-of-type {\n",
       "        vertical-align: middle;\n",
       "    }\n",
       "\n",
       "    .dataframe tbody tr th {\n",
       "        vertical-align: top;\n",
       "    }\n",
       "\n",
       "    .dataframe thead th {\n",
       "        text-align: right;\n",
       "    }\n",
       "</style>\n",
       "<table border=\"1\" class=\"dataframe\">\n",
       "  <thead>\n",
       "    <tr style=\"text-align: right;\">\n",
       "      <th></th>\n",
       "      <th>Part of the day</th>\n",
       "      <th>Mild injuries</th>\n",
       "      <th>Serious injuries</th>\n",
       "      <th>Time_id</th>\n",
       "    </tr>\n",
       "  </thead>\n",
       "  <tbody>\n",
       "    <tr>\n",
       "      <td>0</td>\n",
       "      <td>morning</td>\n",
       "      <td>0.597592</td>\n",
       "      <td>0.642857</td>\n",
       "      <td>0</td>\n",
       "    </tr>\n",
       "    <tr>\n",
       "      <td>1</td>\n",
       "      <td>afternoon</td>\n",
       "      <td>1.000000</td>\n",
       "      <td>0.732143</td>\n",
       "      <td>1</td>\n",
       "    </tr>\n",
       "    <tr>\n",
       "      <td>2</td>\n",
       "      <td>evening</td>\n",
       "      <td>0.620902</td>\n",
       "      <td>1.000000</td>\n",
       "      <td>2</td>\n",
       "    </tr>\n",
       "    <tr>\n",
       "      <td>3</td>\n",
       "      <td>night</td>\n",
       "      <td>0.000000</td>\n",
       "      <td>0.000000</td>\n",
       "      <td>3</td>\n",
       "    </tr>\n",
       "  </tbody>\n",
       "</table>\n",
       "</div>"
      ],
      "text/plain": [
       "  Part of the day  Mild injuries  Serious injuries  Time_id\n",
       "0         morning       0.597592          0.642857        0\n",
       "1       afternoon       1.000000          0.732143        1\n",
       "2         evening       0.620902          1.000000        2\n",
       "3           night       0.000000          0.000000        3"
      ]
     },
     "execution_count": 35,
     "metadata": {},
     "output_type": "execute_result"
    }
   ],
   "source": [
    "from sklearn.preprocessing import MinMaxScaler \n",
    "std1=MinMaxScaler()\n",
    "cols1=['Mild injuries','Serious injuries']\n",
    "timeofday_df[cols]=std1.fit_transform(timeofday_df[cols].values)\n",
    "\n",
    "timeofday_df.head()"
   ]
  },
  {
   "cell_type": "code",
   "execution_count": 36,
   "metadata": {},
   "outputs": [
    {
     "data": {
      "image/png": "[encoded data removed]",
      "text/plain": [
       "<Figure size 864x576 with 1 Axes>"
      ]
     },
     "metadata": {
      "needs_background": "light"
     },
     "output_type": "display_data"
    }
   ],
   "source": [
    "timeofday_df.plot(y=['Mild injuries','Serious injuries'],x='Part of the day',kind='bar',figsize=(12,8))\n",
    "plt.xlabel('Part of day',fontsize=12)\n",
    "plt.xticks(rotation=45)\n",
    "plt.ylabel('Injuries',fontsize=12)\n",
    "plt.title(\"Injuries during Day\",fontsize=15)\n",
    "plt.show()"
   ]
  },
  {
   "cell_type": "code",
   "execution_count": 37,
   "metadata": {},
   "outputs": [],
   "source": [
    "victims = barcelona.groupby('Weekday')['Mild injuries','Serious injuries'].sum()"
   ]
  },
  {
   "cell_type": "code",
   "execution_count": 38,
   "metadata": {},
   "outputs": [
    {
     "data": {
      "text/html": [
       "<div>\n",
       "<style scoped>\n",
       "    .dataframe tbody tr th:only-of-type {\n",
       "        vertical-align: middle;\n",
       "    }\n",
       "\n",
       "    .dataframe tbody tr th {\n",
       "        vertical-align: top;\n",
       "    }\n",
       "\n",
       "    .dataframe thead th {\n",
       "        text-align: right;\n",
       "    }\n",
       "</style>\n",
       "<table border=\"1\" class=\"dataframe\">\n",
       "  <thead>\n",
       "    <tr style=\"text-align: right;\">\n",
       "      <th></th>\n",
       "      <th>Id</th>\n",
       "      <th>District Name</th>\n",
       "      <th>Neighborhood Name</th>\n",
       "      <th>Street</th>\n",
       "      <th>Weekday</th>\n",
       "      <th>Month</th>\n",
       "      <th>Day</th>\n",
       "      <th>Hour</th>\n",
       "      <th>Part of the day</th>\n",
       "      <th>Mild injuries</th>\n",
       "      <th>Serious injuries</th>\n",
       "      <th>Victims</th>\n",
       "      <th>Vehicles involved</th>\n",
       "      <th>Longitude</th>\n",
       "      <th>Latitude</th>\n",
       "    </tr>\n",
       "  </thead>\n",
       "  <tbody>\n",
       "    <tr>\n",
       "      <td>0</td>\n",
       "      <td>2017S008429</td>\n",
       "      <td>Baardheere</td>\n",
       "      <td>Unknown</td>\n",
       "      <td>Número 27                                     ...</td>\n",
       "      <td>Friday</td>\n",
       "      <td>October</td>\n",
       "      <td>13</td>\n",
       "      <td>8</td>\n",
       "      <td>morning</td>\n",
       "      <td>2</td>\n",
       "      <td>0</td>\n",
       "      <td>2</td>\n",
       "      <td>2</td>\n",
       "      <td>2.125624</td>\n",
       "      <td>41.340045</td>\n",
       "    </tr>\n",
       "    <tr>\n",
       "      <td>1</td>\n",
       "      <td>2017S007316</td>\n",
       "      <td>Baardheere</td>\n",
       "      <td>Unknown</td>\n",
       "      <td>Número 3 Zona Franca / Número 50 Zona Franca  ...</td>\n",
       "      <td>Friday</td>\n",
       "      <td>September</td>\n",
       "      <td>1</td>\n",
       "      <td>13</td>\n",
       "      <td>afternoon</td>\n",
       "      <td>2</td>\n",
       "      <td>0</td>\n",
       "      <td>2</td>\n",
       "      <td>2</td>\n",
       "      <td>2.120452</td>\n",
       "      <td>41.339426</td>\n",
       "    </tr>\n",
       "    <tr>\n",
       "      <td>2</td>\n",
       "      <td>2017S010210</td>\n",
       "      <td>Baardheere</td>\n",
       "      <td>Unknown</td>\n",
       "      <td>Litoral (Besòs)                               ...</td>\n",
       "      <td>Friday</td>\n",
       "      <td>December</td>\n",
       "      <td>8</td>\n",
       "      <td>21</td>\n",
       "      <td>evening</td>\n",
       "      <td>5</td>\n",
       "      <td>0</td>\n",
       "      <td>5</td>\n",
       "      <td>2</td>\n",
       "      <td>2.167356</td>\n",
       "      <td>41.360885</td>\n",
       "    </tr>\n",
       "    <tr>\n",
       "      <td>3</td>\n",
       "      <td>2017S006364</td>\n",
       "      <td>Baardheere</td>\n",
       "      <td>Unknown</td>\n",
       "      <td>Número 3 Zona Franca                          ...</td>\n",
       "      <td>Friday</td>\n",
       "      <td>July</td>\n",
       "      <td>21</td>\n",
       "      <td>2</td>\n",
       "      <td>night</td>\n",
       "      <td>1</td>\n",
       "      <td>0</td>\n",
       "      <td>1</td>\n",
       "      <td>2</td>\n",
       "      <td>2.124529</td>\n",
       "      <td>41.337668</td>\n",
       "    </tr>\n",
       "    <tr>\n",
       "      <td>4</td>\n",
       "      <td>2017S004615</td>\n",
       "      <td>Sant Martí</td>\n",
       "      <td>el Camp de l'Arpa del Clot</td>\n",
       "      <td>Las Navas de Tolosa                           ...</td>\n",
       "      <td>Thursday</td>\n",
       "      <td>May</td>\n",
       "      <td>25</td>\n",
       "      <td>14</td>\n",
       "      <td>afternoon</td>\n",
       "      <td>1</td>\n",
       "      <td>0</td>\n",
       "      <td>1</td>\n",
       "      <td>3</td>\n",
       "      <td>2.185272</td>\n",
       "      <td>41.416365</td>\n",
       "    </tr>\n",
       "  </tbody>\n",
       "</table>\n",
       "</div>"
      ],
      "text/plain": [
       "                Id District Name           Neighborhood Name  \\\n",
       "0  2017S008429        Baardheere                     Unknown   \n",
       "1  2017S007316        Baardheere                     Unknown   \n",
       "2  2017S010210        Baardheere                     Unknown   \n",
       "3  2017S006364        Baardheere                     Unknown   \n",
       "4  2017S004615        Sant Martí  el Camp de l'Arpa del Clot   \n",
       "\n",
       "                                              Street   Weekday      Month  \\\n",
       "0  Número 27                                     ...    Friday    October   \n",
       "1  Número 3 Zona Franca / Número 50 Zona Franca  ...    Friday  September   \n",
       "2  Litoral (Besòs)                               ...    Friday   December   \n",
       "3  Número 3 Zona Franca                          ...    Friday       July   \n",
       "4  Las Navas de Tolosa                           ...  Thursday        May   \n",
       "\n",
       "   Day  Hour Part of the day  Mild injuries  Serious injuries  Victims  \\\n",
       "0   13     8         morning              2                 0        2   \n",
       "1    1    13       afternoon              2                 0        2   \n",
       "2    8    21         evening              5                 0        5   \n",
       "3   21     2           night              1                 0        1   \n",
       "4   25    14       afternoon              1                 0        1   \n",
       "\n",
       "   Vehicles involved  Longitude   Latitude  \n",
       "0                  2   2.125624  41.340045  \n",
       "1                  2   2.120452  41.339426  \n",
       "2                  2   2.167356  41.360885  \n",
       "3                  2   2.124529  41.337668  \n",
       "4                  3   2.185272  41.416365  "
      ]
     },
     "execution_count": 38,
     "metadata": {},
     "output_type": "execute_result"
    }
   ],
   "source": [
    "#Test of Independence\n",
    "barcelona.head()\n"
   ]
  },
  {
   "cell_type": "code",
   "execution_count": 39,
   "metadata": {},
   "outputs": [
    {
     "data": {
      "text/plain": [
       "Corts Catalanes                                       219\n",
       "Diagonal                                              176\n",
       "Litoral (Llobregat)                                   116\n",
       "Litoral (Besòs)                                        99\n",
       "Aragó                                                  95\n",
       "                                                     ... \n",
       "NICARAGUA / Berlín                                      1\n",
       "Sarrià / Londres                                        1\n",
       "Aymà / Perelló                                          1\n",
       "AVINYÓ                                                  1\n",
       "Consell de Cent / Calàbria                              1\n",
       "Name: Street, Length: 4253, dtype: int64"
      ]
     },
     "execution_count": 39,
     "metadata": {},
     "output_type": "execute_result"
    }
   ],
   "source": [
    "barcelona['Street'].value_counts()"
   ]
  },
  {
   "cell_type": "code",
   "execution_count": 40,
   "metadata": {},
   "outputs": [
    {
     "data": {
      "text/plain": [
       "Eixample               3029\n",
       "Sant Martí             1336\n",
       "Sants-Montjuïc         1104\n",
       "Sarrià-Sant Gervasi    1104\n",
       "Horta-Guinardó          743\n",
       "Les Corts               726\n",
       "Ciutat Vella            600\n",
       "Sant Andreu             597\n",
       "Nou Barris              542\n",
       "Gràcia                  531\n",
       "Baardheere               27\n",
       "Name: District Name, dtype: int64"
      ]
     },
     "execution_count": 40,
     "metadata": {},
     "output_type": "execute_result"
    }
   ],
   "source": [
    "barcelona['District Name'].value_counts()"
   ]
  },
  {
   "cell_type": "code",
   "execution_count": 41,
   "metadata": {},
   "outputs": [],
   "source": [
    "catnames=['District Name','Weekday','Month','Part of the day','Mild injuries','Serious injuries','Victims','Vehicles involved']\n",
    "from scipy.stats import chi2_contingency"
   ]
  },
  {
   "cell_type": "code",
   "execution_count": 42,
   "metadata": {},
   "outputs": [
    {
     "data": {
      "text/html": [
       "<div>\n",
       "<style scoped>\n",
       "    .dataframe tbody tr th:only-of-type {\n",
       "        vertical-align: middle;\n",
       "    }\n",
       "\n",
       "    .dataframe tbody tr th {\n",
       "        vertical-align: top;\n",
       "    }\n",
       "\n",
       "    .dataframe thead th {\n",
       "        text-align: right;\n",
       "    }\n",
       "</style>\n",
       "<table border=\"1\" class=\"dataframe\">\n",
       "  <thead>\n",
       "    <tr style=\"text-align: right;\">\n",
       "      <th></th>\n",
       "      <th>District Name</th>\n",
       "      <th>Weekday</th>\n",
       "      <th>Month</th>\n",
       "      <th>Part of the day</th>\n",
       "      <th>Mild injuries</th>\n",
       "      <th>Serious injuries</th>\n",
       "      <th>Victims</th>\n",
       "      <th>Vehicles involved</th>\n",
       "    </tr>\n",
       "  </thead>\n",
       "  <tbody>\n",
       "    <tr>\n",
       "      <td>District Name</td>\n",
       "      <td>0.00</td>\n",
       "      <td>0.07</td>\n",
       "      <td>0.00</td>\n",
       "      <td>0.00</td>\n",
       "      <td>0.0</td>\n",
       "      <td>0.19</td>\n",
       "      <td>0.0</td>\n",
       "      <td>0.0</td>\n",
       "    </tr>\n",
       "    <tr>\n",
       "      <td>Weekday</td>\n",
       "      <td>0.07</td>\n",
       "      <td>0.00</td>\n",
       "      <td>0.00</td>\n",
       "      <td>0.00</td>\n",
       "      <td>0.0</td>\n",
       "      <td>0.03</td>\n",
       "      <td>0.0</td>\n",
       "      <td>0.0</td>\n",
       "    </tr>\n",
       "    <tr>\n",
       "      <td>Month</td>\n",
       "      <td>0.00</td>\n",
       "      <td>0.00</td>\n",
       "      <td>0.00</td>\n",
       "      <td>0.20</td>\n",
       "      <td>0.0</td>\n",
       "      <td>0.13</td>\n",
       "      <td>0.0</td>\n",
       "      <td>0.4</td>\n",
       "    </tr>\n",
       "    <tr>\n",
       "      <td>Part of the day</td>\n",
       "      <td>0.00</td>\n",
       "      <td>0.00</td>\n",
       "      <td>0.20</td>\n",
       "      <td>0.00</td>\n",
       "      <td>0.0</td>\n",
       "      <td>0.01</td>\n",
       "      <td>0.0</td>\n",
       "      <td>0.0</td>\n",
       "    </tr>\n",
       "    <tr>\n",
       "      <td>Mild injuries</td>\n",
       "      <td>0.00</td>\n",
       "      <td>0.00</td>\n",
       "      <td>0.00</td>\n",
       "      <td>0.00</td>\n",
       "      <td>0.0</td>\n",
       "      <td>0.00</td>\n",
       "      <td>0.0</td>\n",
       "      <td>0.0</td>\n",
       "    </tr>\n",
       "    <tr>\n",
       "      <td>Serious injuries</td>\n",
       "      <td>0.19</td>\n",
       "      <td>0.03</td>\n",
       "      <td>0.13</td>\n",
       "      <td>0.01</td>\n",
       "      <td>0.0</td>\n",
       "      <td>0.00</td>\n",
       "      <td>0.0</td>\n",
       "      <td>0.0</td>\n",
       "    </tr>\n",
       "    <tr>\n",
       "      <td>Victims</td>\n",
       "      <td>0.00</td>\n",
       "      <td>0.00</td>\n",
       "      <td>0.00</td>\n",
       "      <td>0.00</td>\n",
       "      <td>0.0</td>\n",
       "      <td>0.00</td>\n",
       "      <td>0.0</td>\n",
       "      <td>0.0</td>\n",
       "    </tr>\n",
       "    <tr>\n",
       "      <td>Vehicles involved</td>\n",
       "      <td>0.00</td>\n",
       "      <td>0.00</td>\n",
       "      <td>0.40</td>\n",
       "      <td>0.00</td>\n",
       "      <td>0.0</td>\n",
       "      <td>0.00</td>\n",
       "      <td>0.0</td>\n",
       "      <td>0.0</td>\n",
       "    </tr>\n",
       "  </tbody>\n",
       "</table>\n",
       "</div>"
      ],
      "text/plain": [
       "                   District Name  Weekday  Month  Part of the day  \\\n",
       "District Name               0.00     0.07   0.00             0.00   \n",
       "Weekday                     0.07     0.00   0.00             0.00   \n",
       "Month                       0.00     0.00   0.00             0.20   \n",
       "Part of the day             0.00     0.00   0.20             0.00   \n",
       "Mild injuries               0.00     0.00   0.00             0.00   \n",
       "Serious injuries            0.19     0.03   0.13             0.01   \n",
       "Victims                     0.00     0.00   0.00             0.00   \n",
       "Vehicles involved           0.00     0.00   0.40             0.00   \n",
       "\n",
       "                   Mild injuries  Serious injuries  Victims  Vehicles involved  \n",
       "District Name                0.0              0.19      0.0                0.0  \n",
       "Weekday                      0.0              0.03      0.0                0.0  \n",
       "Month                        0.0              0.13      0.0                0.4  \n",
       "Part of the day              0.0              0.01      0.0                0.0  \n",
       "Mild injuries                0.0              0.00      0.0                0.0  \n",
       "Serious injuries             0.0              0.00      0.0                0.0  \n",
       "Victims                      0.0              0.00      0.0                0.0  \n",
       "Vehicles involved            0.0              0.00      0.0                0.0  "
      ]
     },
     "execution_count": 42,
     "metadata": {},
     "output_type": "execute_result"
    }
   ],
   "source": [
    "factors_paired=[(i,j) for i in catnames for j in catnames]\n",
    "chi2, p_values = [],[]\n",
    "for f in factors_paired:\n",
    "    if f[0]!=f[1]:\n",
    "        chitest=chi2_contingency(pd.crosstab(barcelona[f[0]],barcelona[f[1]]))\n",
    "        chi2.append(chitest[0])\n",
    "        p_values.append(chitest[1])\n",
    "    else:\n",
    "        chi2.append(0)\n",
    "        p_values.append(0)\n",
    "\n",
    "\n",
    "p1=np.array(p_values).reshape((8,8))\n",
    "#p1=np.array(p_values)\n",
    "p1=pd.DataFrame(p1.round(2), index=catnames, columns=catnames)\n",
    "p1\n"
   ]
  },
  {
   "cell_type": "code",
   "execution_count": 43,
   "metadata": {},
   "outputs": [],
   "source": [
    "# Null Hypothesis: Independant:(p value>0.05) # Accept Null Hypothesis \n",
    "\n",
    "# Alternate Hypothesis: Dependant:(p is <0.05) # Accept Alternate Hypothesis"
   ]
  },
  {
   "cell_type": "code",
   "execution_count": 44,
   "metadata": {},
   "outputs": [
    {
     "data": {
      "text/plain": [
       "Index(['District Name', 'Weekday', 'Month', 'Part of the day', 'Mild injuries',\n",
       "       'Serious injuries', 'Victims', 'Vehicles involved'],\n",
       "      dtype='object')"
      ]
     },
     "execution_count": 44,
     "metadata": {},
     "output_type": "execute_result"
    }
   ],
   "source": [
    "p1.columns"
   ]
  },
  {
   "cell_type": "code",
   "execution_count": 45,
   "metadata": {},
   "outputs": [
    {
     "data": {
      "text/plain": [
       "Index(['District Name', 'Weekday', 'Month', 'Part of the day', 'Mild injuries',\n",
       "       'Serious injuries', 'Victims', 'Vehicles involved'],\n",
       "      dtype='object')"
      ]
     },
     "execution_count": 45,
     "metadata": {},
     "output_type": "execute_result"
    }
   ],
   "source": [
    "p1.index"
   ]
  },
  {
   "cell_type": "code",
   "execution_count": 46,
   "metadata": {},
   "outputs": [
    {
     "data": {
      "text/html": [
       "<div>\n",
       "<style scoped>\n",
       "    .dataframe tbody tr th:only-of-type {\n",
       "        vertical-align: middle;\n",
       "    }\n",
       "\n",
       "    .dataframe tbody tr th {\n",
       "        vertical-align: top;\n",
       "    }\n",
       "\n",
       "    .dataframe thead th {\n",
       "        text-align: right;\n",
       "    }\n",
       "</style>\n",
       "<table border=\"1\" class=\"dataframe\">\n",
       "  <thead>\n",
       "    <tr style=\"text-align: right;\">\n",
       "      <th></th>\n",
       "      <th>District Name</th>\n",
       "      <th>Weekday</th>\n",
       "      <th>Month</th>\n",
       "      <th>Part of the day</th>\n",
       "      <th>Mild injuries</th>\n",
       "      <th>Serious injuries</th>\n",
       "      <th>Victims</th>\n",
       "      <th>Vehicles involved</th>\n",
       "    </tr>\n",
       "  </thead>\n",
       "  <tbody>\n",
       "    <tr>\n",
       "      <td>District Name</td>\n",
       "      <td>0.0</td>\n",
       "      <td>NaN</td>\n",
       "      <td>0.0</td>\n",
       "      <td>0.00</td>\n",
       "      <td>0.0</td>\n",
       "      <td>NaN</td>\n",
       "      <td>0.0</td>\n",
       "      <td>0.0</td>\n",
       "    </tr>\n",
       "    <tr>\n",
       "      <td>Weekday</td>\n",
       "      <td>NaN</td>\n",
       "      <td>0.00</td>\n",
       "      <td>0.0</td>\n",
       "      <td>0.00</td>\n",
       "      <td>0.0</td>\n",
       "      <td>0.03</td>\n",
       "      <td>0.0</td>\n",
       "      <td>0.0</td>\n",
       "    </tr>\n",
       "    <tr>\n",
       "      <td>Month</td>\n",
       "      <td>0.0</td>\n",
       "      <td>0.00</td>\n",
       "      <td>0.0</td>\n",
       "      <td>NaN</td>\n",
       "      <td>0.0</td>\n",
       "      <td>NaN</td>\n",
       "      <td>0.0</td>\n",
       "      <td>NaN</td>\n",
       "    </tr>\n",
       "    <tr>\n",
       "      <td>Part of the day</td>\n",
       "      <td>0.0</td>\n",
       "      <td>0.00</td>\n",
       "      <td>NaN</td>\n",
       "      <td>0.00</td>\n",
       "      <td>0.0</td>\n",
       "      <td>0.01</td>\n",
       "      <td>0.0</td>\n",
       "      <td>0.0</td>\n",
       "    </tr>\n",
       "    <tr>\n",
       "      <td>Mild injuries</td>\n",
       "      <td>0.0</td>\n",
       "      <td>0.00</td>\n",
       "      <td>0.0</td>\n",
       "      <td>0.00</td>\n",
       "      <td>0.0</td>\n",
       "      <td>0.00</td>\n",
       "      <td>0.0</td>\n",
       "      <td>0.0</td>\n",
       "    </tr>\n",
       "    <tr>\n",
       "      <td>Serious injuries</td>\n",
       "      <td>NaN</td>\n",
       "      <td>0.03</td>\n",
       "      <td>NaN</td>\n",
       "      <td>0.01</td>\n",
       "      <td>0.0</td>\n",
       "      <td>0.00</td>\n",
       "      <td>0.0</td>\n",
       "      <td>0.0</td>\n",
       "    </tr>\n",
       "    <tr>\n",
       "      <td>Victims</td>\n",
       "      <td>0.0</td>\n",
       "      <td>0.00</td>\n",
       "      <td>0.0</td>\n",
       "      <td>0.00</td>\n",
       "      <td>0.0</td>\n",
       "      <td>0.00</td>\n",
       "      <td>0.0</td>\n",
       "      <td>0.0</td>\n",
       "    </tr>\n",
       "    <tr>\n",
       "      <td>Vehicles involved</td>\n",
       "      <td>0.0</td>\n",
       "      <td>0.00</td>\n",
       "      <td>NaN</td>\n",
       "      <td>0.00</td>\n",
       "      <td>0.0</td>\n",
       "      <td>0.00</td>\n",
       "      <td>0.0</td>\n",
       "      <td>0.0</td>\n",
       "    </tr>\n",
       "  </tbody>\n",
       "</table>\n",
       "</div>"
      ],
      "text/plain": [
       "                   District Name  Weekday  Month  Part of the day  \\\n",
       "District Name                0.0      NaN    0.0             0.00   \n",
       "Weekday                      NaN     0.00    0.0             0.00   \n",
       "Month                        0.0     0.00    0.0              NaN   \n",
       "Part of the day              0.0     0.00    NaN             0.00   \n",
       "Mild injuries                0.0     0.00    0.0             0.00   \n",
       "Serious injuries             NaN     0.03    NaN             0.01   \n",
       "Victims                      0.0     0.00    0.0             0.00   \n",
       "Vehicles involved            0.0     0.00    NaN             0.00   \n",
       "\n",
       "                   Mild injuries  Serious injuries  Victims  Vehicles involved  \n",
       "District Name                0.0               NaN      0.0                0.0  \n",
       "Weekday                      0.0              0.03      0.0                0.0  \n",
       "Month                        0.0               NaN      0.0                NaN  \n",
       "Part of the day              0.0              0.01      0.0                0.0  \n",
       "Mild injuries                0.0              0.00      0.0                0.0  \n",
       "Serious injuries             0.0              0.00      0.0                0.0  \n",
       "Victims                      0.0              0.00      0.0                0.0  \n",
       "Vehicles involved            0.0              0.00      0.0                0.0  "
      ]
     },
     "execution_count": 46,
     "metadata": {},
     "output_type": "execute_result"
    }
   ],
   "source": [
    "p2= p1[p1<0.05]\n",
    "p2"
   ]
  },
  {
   "cell_type": "code",
   "execution_count": 47,
   "metadata": {
    "scrolled": true
   },
   "outputs": [
    {
     "name": "stdout",
     "output_type": "stream",
     "text": [
      "('District Name', 'Month')\n",
      "('District Name', 'Part of the day')\n",
      "('District Name', 'Mild injuries')\n",
      "('District Name', 'Victims')\n",
      "('District Name', 'Vehicles involved')\n",
      "('Weekday', 'Month')\n",
      "('Weekday', 'Part of the day')\n",
      "('Weekday', 'Mild injuries')\n",
      "('Weekday', 'Serious injuries')\n",
      "('Weekday', 'Victims')\n",
      "('Weekday', 'Vehicles involved')\n",
      "('Month', 'District Name')\n",
      "('Month', 'Weekday')\n",
      "('Month', 'Mild injuries')\n",
      "('Month', 'Victims')\n",
      "('Part of the day', 'District Name')\n",
      "('Part of the day', 'Weekday')\n",
      "('Part of the day', 'Mild injuries')\n",
      "('Part of the day', 'Serious injuries')\n",
      "('Part of the day', 'Victims')\n",
      "('Part of the day', 'Vehicles involved')\n",
      "('Mild injuries', 'District Name')\n",
      "('Mild injuries', 'Weekday')\n",
      "('Mild injuries', 'Month')\n",
      "('Mild injuries', 'Part of the day')\n",
      "('Mild injuries', 'Serious injuries')\n",
      "('Mild injuries', 'Victims')\n",
      "('Mild injuries', 'Vehicles involved')\n",
      "('Serious injuries', 'Weekday')\n",
      "('Serious injuries', 'Part of the day')\n",
      "('Serious injuries', 'Mild injuries')\n",
      "('Serious injuries', 'Victims')\n",
      "('Serious injuries', 'Vehicles involved')\n",
      "('Victims', 'District Name')\n",
      "('Victims', 'Weekday')\n",
      "('Victims', 'Month')\n",
      "('Victims', 'Part of the day')\n",
      "('Victims', 'Mild injuries')\n",
      "('Victims', 'Serious injuries')\n",
      "('Victims', 'Vehicles involved')\n",
      "('Vehicles involved', 'District Name')\n",
      "('Vehicles involved', 'Weekday')\n",
      "('Vehicles involved', 'Part of the day')\n",
      "('Vehicles involved', 'Mild injuries')\n",
      "('Vehicles involved', 'Serious injuries')\n",
      "('Vehicles involved', 'Victims')\n"
     ]
    }
   ],
   "source": [
    "#Nan=Independant\n",
    "#Dependant\n",
    "for i in p2.index:\n",
    "    for j in p2.columns:\n",
    "        if ~np.isnan(p2.loc[i,j]) and i!=j:\n",
    "            print((i,j))"
   ]
  },
  {
   "cell_type": "code",
   "execution_count": 48,
   "metadata": {},
   "outputs": [
    {
     "data": {
      "text/html": [
       "<div>\n",
       "<style scoped>\n",
       "    .dataframe tbody tr th:only-of-type {\n",
       "        vertical-align: middle;\n",
       "    }\n",
       "\n",
       "    .dataframe tbody tr th {\n",
       "        vertical-align: top;\n",
       "    }\n",
       "\n",
       "    .dataframe thead th {\n",
       "        text-align: right;\n",
       "    }\n",
       "</style>\n",
       "<table border=\"1\" class=\"dataframe\">\n",
       "  <thead>\n",
       "    <tr style=\"text-align: right;\">\n",
       "      <th></th>\n",
       "      <th>Id</th>\n",
       "      <th>District Name</th>\n",
       "      <th>Neighborhood Name</th>\n",
       "      <th>Street</th>\n",
       "      <th>Weekday</th>\n",
       "      <th>Month</th>\n",
       "      <th>Day</th>\n",
       "      <th>Hour</th>\n",
       "      <th>Part of the day</th>\n",
       "      <th>Mild injuries</th>\n",
       "      <th>Serious injuries</th>\n",
       "      <th>Victims</th>\n",
       "      <th>Vehicles involved</th>\n",
       "      <th>Longitude</th>\n",
       "      <th>Latitude</th>\n",
       "    </tr>\n",
       "  </thead>\n",
       "  <tbody>\n",
       "    <tr>\n",
       "      <td>0</td>\n",
       "      <td>2017S008429</td>\n",
       "      <td>Baardheere</td>\n",
       "      <td>Unknown</td>\n",
       "      <td>Número 27                                     ...</td>\n",
       "      <td>Friday</td>\n",
       "      <td>October</td>\n",
       "      <td>13</td>\n",
       "      <td>8</td>\n",
       "      <td>morning</td>\n",
       "      <td>2</td>\n",
       "      <td>0</td>\n",
       "      <td>2</td>\n",
       "      <td>2</td>\n",
       "      <td>2.125624</td>\n",
       "      <td>41.340045</td>\n",
       "    </tr>\n",
       "    <tr>\n",
       "      <td>1</td>\n",
       "      <td>2017S007316</td>\n",
       "      <td>Baardheere</td>\n",
       "      <td>Unknown</td>\n",
       "      <td>Número 3 Zona Franca / Número 50 Zona Franca  ...</td>\n",
       "      <td>Friday</td>\n",
       "      <td>September</td>\n",
       "      <td>1</td>\n",
       "      <td>13</td>\n",
       "      <td>afternoon</td>\n",
       "      <td>2</td>\n",
       "      <td>0</td>\n",
       "      <td>2</td>\n",
       "      <td>2</td>\n",
       "      <td>2.120452</td>\n",
       "      <td>41.339426</td>\n",
       "    </tr>\n",
       "    <tr>\n",
       "      <td>2</td>\n",
       "      <td>2017S010210</td>\n",
       "      <td>Baardheere</td>\n",
       "      <td>Unknown</td>\n",
       "      <td>Litoral (Besòs)                               ...</td>\n",
       "      <td>Friday</td>\n",
       "      <td>December</td>\n",
       "      <td>8</td>\n",
       "      <td>21</td>\n",
       "      <td>evening</td>\n",
       "      <td>5</td>\n",
       "      <td>0</td>\n",
       "      <td>5</td>\n",
       "      <td>2</td>\n",
       "      <td>2.167356</td>\n",
       "      <td>41.360885</td>\n",
       "    </tr>\n",
       "    <tr>\n",
       "      <td>3</td>\n",
       "      <td>2017S006364</td>\n",
       "      <td>Baardheere</td>\n",
       "      <td>Unknown</td>\n",
       "      <td>Número 3 Zona Franca                          ...</td>\n",
       "      <td>Friday</td>\n",
       "      <td>July</td>\n",
       "      <td>21</td>\n",
       "      <td>2</td>\n",
       "      <td>night</td>\n",
       "      <td>1</td>\n",
       "      <td>0</td>\n",
       "      <td>1</td>\n",
       "      <td>2</td>\n",
       "      <td>2.124529</td>\n",
       "      <td>41.337668</td>\n",
       "    </tr>\n",
       "    <tr>\n",
       "      <td>4</td>\n",
       "      <td>2017S004615</td>\n",
       "      <td>Sant Martí</td>\n",
       "      <td>el Camp de l'Arpa del Clot</td>\n",
       "      <td>Las Navas de Tolosa                           ...</td>\n",
       "      <td>Thursday</td>\n",
       "      <td>May</td>\n",
       "      <td>25</td>\n",
       "      <td>14</td>\n",
       "      <td>afternoon</td>\n",
       "      <td>1</td>\n",
       "      <td>0</td>\n",
       "      <td>1</td>\n",
       "      <td>3</td>\n",
       "      <td>2.185272</td>\n",
       "      <td>41.416365</td>\n",
       "    </tr>\n",
       "  </tbody>\n",
       "</table>\n",
       "</div>"
      ],
      "text/plain": [
       "                Id District Name           Neighborhood Name  \\\n",
       "0  2017S008429        Baardheere                     Unknown   \n",
       "1  2017S007316        Baardheere                     Unknown   \n",
       "2  2017S010210        Baardheere                     Unknown   \n",
       "3  2017S006364        Baardheere                     Unknown   \n",
       "4  2017S004615        Sant Martí  el Camp de l'Arpa del Clot   \n",
       "\n",
       "                                              Street   Weekday      Month  \\\n",
       "0  Número 27                                     ...    Friday    October   \n",
       "1  Número 3 Zona Franca / Número 50 Zona Franca  ...    Friday  September   \n",
       "2  Litoral (Besòs)                               ...    Friday   December   \n",
       "3  Número 3 Zona Franca                          ...    Friday       July   \n",
       "4  Las Navas de Tolosa                           ...  Thursday        May   \n",
       "\n",
       "   Day  Hour Part of the day  Mild injuries  Serious injuries  Victims  \\\n",
       "0   13     8         morning              2                 0        2   \n",
       "1    1    13       afternoon              2                 0        2   \n",
       "2    8    21         evening              5                 0        5   \n",
       "3   21     2           night              1                 0        1   \n",
       "4   25    14       afternoon              1                 0        1   \n",
       "\n",
       "   Vehicles involved  Longitude   Latitude  \n",
       "0                  2   2.125624  41.340045  \n",
       "1                  2   2.120452  41.339426  \n",
       "2                  2   2.167356  41.360885  \n",
       "3                  2   2.124529  41.337668  \n",
       "4                  3   2.185272  41.416365  "
      ]
     },
     "execution_count": 48,
     "metadata": {},
     "output_type": "execute_result"
    }
   ],
   "source": [
    "barcelona.head()"
   ]
  },
  {
   "cell_type": "code",
   "execution_count": 49,
   "metadata": {},
   "outputs": [
    {
     "data": {
      "text/html": [
       "<div>\n",
       "<style scoped>\n",
       "    .dataframe tbody tr th:only-of-type {\n",
       "        vertical-align: middle;\n",
       "    }\n",
       "\n",
       "    .dataframe tbody tr th {\n",
       "        vertical-align: top;\n",
       "    }\n",
       "\n",
       "    .dataframe thead th {\n",
       "        text-align: right;\n",
       "    }\n",
       "</style>\n",
       "<table border=\"1\" class=\"dataframe\">\n",
       "  <thead>\n",
       "    <tr style=\"text-align: right;\">\n",
       "      <th></th>\n",
       "      <th>District Name</th>\n",
       "      <th>Weekday</th>\n",
       "      <th>Month</th>\n",
       "      <th>Part of the day</th>\n",
       "      <th>Mild injuries</th>\n",
       "      <th>Serious injuries</th>\n",
       "    </tr>\n",
       "  </thead>\n",
       "  <tbody>\n",
       "    <tr>\n",
       "      <td>0</td>\n",
       "      <td>Baardheere</td>\n",
       "      <td>Friday</td>\n",
       "      <td>October</td>\n",
       "      <td>morning</td>\n",
       "      <td>2</td>\n",
       "      <td>0</td>\n",
       "    </tr>\n",
       "    <tr>\n",
       "      <td>1</td>\n",
       "      <td>Baardheere</td>\n",
       "      <td>Friday</td>\n",
       "      <td>September</td>\n",
       "      <td>afternoon</td>\n",
       "      <td>2</td>\n",
       "      <td>0</td>\n",
       "    </tr>\n",
       "    <tr>\n",
       "      <td>2</td>\n",
       "      <td>Baardheere</td>\n",
       "      <td>Friday</td>\n",
       "      <td>December</td>\n",
       "      <td>evening</td>\n",
       "      <td>5</td>\n",
       "      <td>0</td>\n",
       "    </tr>\n",
       "    <tr>\n",
       "      <td>3</td>\n",
       "      <td>Baardheere</td>\n",
       "      <td>Friday</td>\n",
       "      <td>July</td>\n",
       "      <td>night</td>\n",
       "      <td>1</td>\n",
       "      <td>0</td>\n",
       "    </tr>\n",
       "    <tr>\n",
       "      <td>4</td>\n",
       "      <td>Sant Martí</td>\n",
       "      <td>Thursday</td>\n",
       "      <td>May</td>\n",
       "      <td>afternoon</td>\n",
       "      <td>1</td>\n",
       "      <td>0</td>\n",
       "    </tr>\n",
       "  </tbody>\n",
       "</table>\n",
       "</div>"
      ],
      "text/plain": [
       "  District Name   Weekday      Month Part of the day  Mild injuries  \\\n",
       "0    Baardheere    Friday    October         morning              2   \n",
       "1    Baardheere    Friday  September       afternoon              2   \n",
       "2    Baardheere    Friday   December         evening              5   \n",
       "3    Baardheere    Friday       July           night              1   \n",
       "4    Sant Martí  Thursday        May       afternoon              1   \n",
       "\n",
       "   Serious injuries  \n",
       "0                 0  \n",
       "1                 0  \n",
       "2                 0  \n",
       "3                 0  \n",
       "4                 0  "
      ]
     },
     "execution_count": 49,
     "metadata": {},
     "output_type": "execute_result"
    }
   ],
   "source": [
    "#Model Building\n",
    "#Removing features not required for Model Building\n",
    "Model4 = barcelona.drop(['Id','Neighborhood Name','Hour','Longitude','Latitude','Street','Victims',\n",
    "                         'Vehicles involved','Day'],axis=1)\n",
    "\n",
    "Model4.head()"
   ]
  },
  {
   "cell_type": "code",
   "execution_count": 50,
   "metadata": {},
   "outputs": [
    {
     "data": {
      "text/plain": [
       "1     7253\n",
       "2     1579\n",
       "0     1082\n",
       "3      273\n",
       "4       99\n",
       "5       31\n",
       "6       11\n",
       "7        7\n",
       "10       2\n",
       "9        1\n",
       "8        1\n",
       "Name: Mild injuries, dtype: int64"
      ]
     },
     "execution_count": 50,
     "metadata": {},
     "output_type": "execute_result"
    }
   ],
   "source": [
    "Model4['Mild injuries'].value_counts()"
   ]
  },
  {
   "cell_type": "code",
   "execution_count": 51,
   "metadata": {},
   "outputs": [
    {
     "data": {
      "text/plain": [
       "0    10116\n",
       "1      207\n",
       "2       15\n",
       "4        1\n",
       "Name: Serious injuries, dtype: int64"
      ]
     },
     "execution_count": 51,
     "metadata": {},
     "output_type": "execute_result"
    }
   ],
   "source": [
    "Model4['Serious injuries'].value_counts()"
   ]
  },
  {
   "cell_type": "code",
   "execution_count": 52,
   "metadata": {},
   "outputs": [
    {
     "name": "stdout",
     "output_type": "stream",
     "text": [
      "<class 'pandas.core.frame.DataFrame'>\n",
      "RangeIndex: 10339 entries, 0 to 10338\n",
      "Data columns (total 6 columns):\n",
      "District Name       10339 non-null object\n",
      "Weekday             10339 non-null object\n",
      "Month               10339 non-null object\n",
      "Part of the day     10339 non-null object\n",
      "Mild injuries       10339 non-null int64\n",
      "Serious injuries    10339 non-null int64\n",
      "dtypes: int64(2), object(4)\n",
      "memory usage: 484.8+ KB\n"
     ]
    }
   ],
   "source": [
    "from sklearn.preprocessing import LabelEncoder\n",
    "le = LabelEncoder()\n",
    "Model4.info()\n",
    "\n"
   ]
  },
  {
   "cell_type": "code",
   "execution_count": 53,
   "metadata": {},
   "outputs": [
    {
     "data": {
      "text/html": [
       "<div>\n",
       "<style scoped>\n",
       "    .dataframe tbody tr th:only-of-type {\n",
       "        vertical-align: middle;\n",
       "    }\n",
       "\n",
       "    .dataframe tbody tr th {\n",
       "        vertical-align: top;\n",
       "    }\n",
       "\n",
       "    .dataframe thead th {\n",
       "        text-align: right;\n",
       "    }\n",
       "</style>\n",
       "<table border=\"1\" class=\"dataframe\">\n",
       "  <thead>\n",
       "    <tr style=\"text-align: right;\">\n",
       "      <th></th>\n",
       "      <th>District Name</th>\n",
       "      <th>Weekday</th>\n",
       "      <th>Month</th>\n",
       "      <th>Part of the day</th>\n",
       "      <th>Mild injuries</th>\n",
       "      <th>Serious injuries</th>\n",
       "    </tr>\n",
       "  </thead>\n",
       "  <tbody>\n",
       "    <tr>\n",
       "      <td>0</td>\n",
       "      <td>0</td>\n",
       "      <td>0</td>\n",
       "      <td>10</td>\n",
       "      <td>2</td>\n",
       "      <td>2</td>\n",
       "      <td>0</td>\n",
       "    </tr>\n",
       "    <tr>\n",
       "      <td>1</td>\n",
       "      <td>0</td>\n",
       "      <td>0</td>\n",
       "      <td>11</td>\n",
       "      <td>0</td>\n",
       "      <td>2</td>\n",
       "      <td>0</td>\n",
       "    </tr>\n",
       "    <tr>\n",
       "      <td>2</td>\n",
       "      <td>0</td>\n",
       "      <td>0</td>\n",
       "      <td>2</td>\n",
       "      <td>1</td>\n",
       "      <td>5</td>\n",
       "      <td>0</td>\n",
       "    </tr>\n",
       "    <tr>\n",
       "      <td>3</td>\n",
       "      <td>0</td>\n",
       "      <td>0</td>\n",
       "      <td>5</td>\n",
       "      <td>3</td>\n",
       "      <td>1</td>\n",
       "      <td>0</td>\n",
       "    </tr>\n",
       "    <tr>\n",
       "      <td>4</td>\n",
       "      <td>8</td>\n",
       "      <td>4</td>\n",
       "      <td>8</td>\n",
       "      <td>0</td>\n",
       "      <td>1</td>\n",
       "      <td>0</td>\n",
       "    </tr>\n",
       "  </tbody>\n",
       "</table>\n",
       "</div>"
      ],
      "text/plain": [
       "   District Name  Weekday  Month  Part of the day  Mild injuries  \\\n",
       "0              0        0     10                2              2   \n",
       "1              0        0     11                0              2   \n",
       "2              0        0      2                1              5   \n",
       "3              0        0      5                3              1   \n",
       "4              8        4      8                0              1   \n",
       "\n",
       "   Serious injuries  \n",
       "0                 0  \n",
       "1                 0  \n",
       "2                 0  \n",
       "3                 0  \n",
       "4                 0  "
      ]
     },
     "execution_count": 53,
     "metadata": {},
     "output_type": "execute_result"
    }
   ],
   "source": [
    "#Transforming Categorical to Numeric\n",
    "for col in Model4.select_dtypes('object'):\n",
    "    Model4[col] = le.fit_transform(Model4[col] )\n",
    "Model4.head()"
   ]
  },
  {
   "cell_type": "code",
   "execution_count": 54,
   "metadata": {},
   "outputs": [
    {
     "data": {
      "text/plain": [
       "0    4030\n",
       "2    2816\n",
       "1    2748\n",
       "3     745\n",
       "Name: Part of the day, dtype: int64"
      ]
     },
     "execution_count": 54,
     "metadata": {},
     "output_type": "execute_result"
    }
   ],
   "source": [
    "Model4['Part of the day'].value_counts()"
   ]
  },
  {
   "cell_type": "code",
   "execution_count": 55,
   "metadata": {},
   "outputs": [],
   "source": [
    "x=Model4.drop(['Mild injuries','Serious injuries'],axis=1)\n",
    "#Y1=Model4['Mild injuries']\n",
    "Y2=Model4['Serious injuries']"
   ]
  },
  {
   "cell_type": "code",
   "execution_count": 56,
   "metadata": {},
   "outputs": [],
   "source": [
    "import numpy as np\n",
    "from sklearn.model_selection import train_test_split\n",
    "\n",
    "\n",
    "#x_train,x_test,Y1_train,Y1_test=train_test_split(x,Y1,train_size=0.7,test_size=0.3,random_state=123)\n",
    "x_train,x_test,Y2_train,Y2_test=train_test_split(x,Y2,train_size=0.7,test_size=0.3,random_state=123)\n",
    "\n"
   ]
  },
  {
   "cell_type": "code",
   "execution_count": 57,
   "metadata": {},
   "outputs": [
    {
     "data": {
      "text/html": [
       "<div>\n",
       "<style scoped>\n",
       "    .dataframe tbody tr th:only-of-type {\n",
       "        vertical-align: middle;\n",
       "    }\n",
       "\n",
       "    .dataframe tbody tr th {\n",
       "        vertical-align: top;\n",
       "    }\n",
       "\n",
       "    .dataframe thead th {\n",
       "        text-align: right;\n",
       "    }\n",
       "</style>\n",
       "<table border=\"1\" class=\"dataframe\">\n",
       "  <thead>\n",
       "    <tr style=\"text-align: right;\">\n",
       "      <th></th>\n",
       "      <th>District Name</th>\n",
       "      <th>Weekday</th>\n",
       "      <th>Month</th>\n",
       "      <th>Part of the day</th>\n",
       "    </tr>\n",
       "  </thead>\n",
       "  <tbody>\n",
       "    <tr>\n",
       "      <td>450</td>\n",
       "      <td>2</td>\n",
       "      <td>3</td>\n",
       "      <td>11</td>\n",
       "      <td>3</td>\n",
       "    </tr>\n",
       "    <tr>\n",
       "      <td>5295</td>\n",
       "      <td>1</td>\n",
       "      <td>0</td>\n",
       "      <td>8</td>\n",
       "      <td>0</td>\n",
       "    </tr>\n",
       "    <tr>\n",
       "      <td>2448</td>\n",
       "      <td>7</td>\n",
       "      <td>0</td>\n",
       "      <td>9</td>\n",
       "      <td>0</td>\n",
       "    </tr>\n",
       "    <tr>\n",
       "      <td>4026</td>\n",
       "      <td>1</td>\n",
       "      <td>6</td>\n",
       "      <td>7</td>\n",
       "      <td>1</td>\n",
       "    </tr>\n",
       "    <tr>\n",
       "      <td>4076</td>\n",
       "      <td>2</td>\n",
       "      <td>4</td>\n",
       "      <td>0</td>\n",
       "      <td>2</td>\n",
       "    </tr>\n",
       "  </tbody>\n",
       "</table>\n",
       "</div>"
      ],
      "text/plain": [
       "      District Name  Weekday  Month  Part of the day\n",
       "450               2        3     11                3\n",
       "5295              1        0      8                0\n",
       "2448              7        0      9                0\n",
       "4026              1        6      7                1\n",
       "4076              2        4      0                2"
      ]
     },
     "execution_count": 57,
     "metadata": {},
     "output_type": "execute_result"
    }
   ],
   "source": [
    "x_train.head()"
   ]
  },
  {
   "cell_type": "code",
   "execution_count": 58,
   "metadata": {},
   "outputs": [
    {
     "name": "stderr",
     "output_type": "stream",
     "text": [
      "c:\\users\\teju\\appdata\\local\\programs\\python\\python36\\lib\\site-packages\\sklearn\\linear_model\\logistic.py:432: FutureWarning: Default solver will be changed to 'lbfgs' in 0.22. Specify a solver to silence this warning.\n",
      "  FutureWarning)\n",
      "c:\\users\\teju\\appdata\\local\\programs\\python\\python36\\lib\\site-packages\\sklearn\\linear_model\\logistic.py:469: FutureWarning: Default multi_class will be changed to 'auto' in 0.22. Specify the multi_class option to silence this warning.\n",
      "  \"this warning.\", FutureWarning)\n"
     ]
    }
   ],
   "source": [
    "from sklearn import linear_model\n",
    "from sklearn.linear_model import LogisticRegression\n",
    "logreg = LogisticRegression()\n",
    "#logreg.fit(x_train,Y1_train)\n",
    "logreg.fit(x_train,Y2_train)\n",
    "\n",
    "#Y1_pred=logreg.predict(x_test)\n",
    "Y2_pred=logreg.predict(x_test)\n"
   ]
  },
  {
   "cell_type": "code",
   "execution_count": 59,
   "metadata": {},
   "outputs": [
    {
     "name": "stdout",
     "output_type": "stream",
     "text": [
      "97.68 %\n"
     ]
    }
   ],
   "source": [
    "acc_log = round(logreg.score(x_train, Y2_train)*100, 2)\n",
    "print(round(acc_log,2,),\"%\")"
   ]
  },
  {
   "cell_type": "code",
   "execution_count": 60,
   "metadata": {},
   "outputs": [
    {
     "data": {
      "text/plain": [
       "0.9822695035460993"
      ]
     },
     "execution_count": 60,
     "metadata": {},
     "output_type": "execute_result"
    }
   ],
   "source": [
    "from sklearn.metrics import accuracy_score\n",
    "acc = accuracy_score(Y2_pred, Y2_test)\n",
    "acc"
   ]
  },
  {
   "cell_type": "code",
   "execution_count": 61,
   "metadata": {},
   "outputs": [
    {
     "data": {
      "text/plain": [
       "array([0, 0, 0, 0, 0, 0, 0, 0, 0, 0, 0, 0, 0, 0, 0, 0, 0, 0, 0, 0, 0, 0,\n",
       "       0, 0, 0, 0, 0, 0, 0, 0, 0, 0, 0, 0, 0, 0, 0, 0, 0, 0, 0, 0, 0, 0,\n",
       "       0, 0, 0, 0, 0, 0], dtype=int64)"
      ]
     },
     "execution_count": 61,
     "metadata": {},
     "output_type": "execute_result"
    }
   ],
   "source": [
    "Y2_pred[0:50]"
   ]
  },
  {
   "cell_type": "code",
   "execution_count": 62,
   "metadata": {},
   "outputs": [
    {
     "data": {
      "text/plain": [
       "1301    0\n",
       "9945    0\n",
       "3104    0\n",
       "8674    0\n",
       "2832    0\n",
       "6696    0\n",
       "943     0\n",
       "6717    0\n",
       "5649    0\n",
       "8770    0\n",
       "8610    0\n",
       "2479    0\n",
       "2197    0\n",
       "774     0\n",
       "9497    0\n",
       "2896    0\n",
       "1843    0\n",
       "1796    0\n",
       "2932    0\n",
       "7219    0\n",
       "5063    0\n",
       "5975    0\n",
       "4427    0\n",
       "3759    0\n",
       "7792    0\n",
       "5710    0\n",
       "5980    0\n",
       "9458    0\n",
       "6725    0\n",
       "9636    0\n",
       "3725    0\n",
       "4192    0\n",
       "7029    0\n",
       "4643    0\n",
       "3901    0\n",
       "3898    0\n",
       "8966    0\n",
       "2740    0\n",
       "1335    0\n",
       "5209    0\n",
       "3483    0\n",
       "5735    0\n",
       "3845    0\n",
       "1949    0\n",
       "9356    0\n",
       "1621    0\n",
       "9827    0\n",
       "6860    0\n",
       "3975    0\n",
       "8161    0\n",
       "Name: Serious injuries, dtype: int64"
      ]
     },
     "execution_count": 62,
     "metadata": {},
     "output_type": "execute_result"
    }
   ],
   "source": [
    "Y2_test[0:50]"
   ]
  },
  {
   "cell_type": "code",
   "execution_count": 63,
   "metadata": {},
   "outputs": [
    {
     "data": {
      "text/plain": [
       "array([[3047,    0,    0],\n",
       "       [  52,    0,    0],\n",
       "       [   3,    0,    0]], dtype=int64)"
      ]
     },
     "execution_count": 63,
     "metadata": {},
     "output_type": "execute_result"
    }
   ],
   "source": [
    "from sklearn.metrics import accuracy_score,precision_score,recall_score,confusion_matrix\n",
    "cnf_matrix = confusion_matrix(Y2_test, Y2_pred)\n",
    "cnf_matrix\n"
   ]
  },
  {
   "cell_type": "code",
   "execution_count": 64,
   "metadata": {},
   "outputs": [],
   "source": [
    "from sklearn.metrics import classification_report"
   ]
  },
  {
   "cell_type": "code",
   "execution_count": 65,
   "metadata": {},
   "outputs": [
    {
     "name": "stdout",
     "output_type": "stream",
     "text": [
      "              precision    recall  f1-score   support\n",
      "\n",
      "           0       0.98      1.00      0.99      3047\n",
      "           1       0.00      0.00      0.00        52\n",
      "           2       0.00      0.00      0.00         3\n",
      "\n",
      "    accuracy                           0.98      3102\n",
      "   macro avg       0.33      0.33      0.33      3102\n",
      "weighted avg       0.96      0.98      0.97      3102\n",
      "\n"
     ]
    },
    {
     "name": "stderr",
     "output_type": "stream",
     "text": [
      "c:\\users\\teju\\appdata\\local\\programs\\python\\python36\\lib\\site-packages\\sklearn\\metrics\\classification.py:1437: UndefinedMetricWarning: Precision and F-score are ill-defined and being set to 0.0 in labels with no predicted samples.\n",
      "  'precision', 'predicted', average, warn_for)\n"
     ]
    }
   ],
   "source": [
    "print(classification_report(Y2_test, Y2_pred))"
   ]
  },
  {
   "cell_type": "code",
   "execution_count": 66,
   "metadata": {},
   "outputs": [
    {
     "data": {
      "text/plain": [
       "Text(0.5, 257.44, 'Predicted label')"
      ]
     },
     "execution_count": 66,
     "metadata": {},
     "output_type": "execute_result"
    },
    {
     "data": {
      "image/png": "[encoded data removed]",
      "text/plain": [
       "<Figure size 432x288 with 2 Axes>"
      ]
     },
     "metadata": {
      "needs_background": "light"
     },
     "output_type": "display_data"
    }
   ],
   "source": [
    "%matplotlib inline\n",
    "class_names=[0,1] # name of classes\n",
    "fig, ax = plt.subplots()\n",
    "tick_marks = np.arange(len(class_names))\n",
    "plt.xticks(tick_marks, class_names)\n",
    "plt.yticks(tick_marks, class_names)\n",
    "# create heatmap\n",
    "sns.heatmap(pd.DataFrame(cnf_matrix), annot=True, cmap=\"YlGnBu\" ,fmt='g')\n",
    "ax.xaxis.set_label_position(\"top\")\n",
    "plt.tight_layout()\n",
    "plt.title('Confusion matrix', y=1.1)\n",
    "plt.ylabel('Actual label')\n",
    "plt.xlabel('Predicted label')"
   ]
  },
  {
   "cell_type": "code",
   "execution_count": 67,
   "metadata": {},
   "outputs": [
    {
     "name": "stdout",
     "output_type": "stream",
     "text": [
      "Accuracy: 0.9822695035460993\n",
      "Precision: 0.9822695035460993\n",
      "Recall: 0.9822695035460993\n"
     ]
    },
    {
     "name": "stderr",
     "output_type": "stream",
     "text": [
      "c:\\users\\teju\\appdata\\local\\programs\\python\\python36\\lib\\site-packages\\sklearn\\metrics\\classification.py:1259: UserWarning: Note that pos_label (set to 'positive') is ignored when average != 'binary' (got 'micro'). You may use labels=[pos_label] to specify a single positive class.\n",
      "  % (pos_label, average), UserWarning)\n"
     ]
    }
   ],
   "source": [
    "from sklearn import metrics\n",
    "\n",
    "print(\"Accuracy:\",metrics.accuracy_score(Y2_test, Y2_pred))\n",
    "print(\"Precision:\",metrics.precision_score(Y2_test, Y2_pred,pos_label='positive',average='micro'))\n",
    "print(\"Recall:\",metrics.recall_score(Y2_test, Y2_pred,pos_label='positive',average='micro'))"
   ]
  },
  {
   "cell_type": "code",
   "execution_count": null,
   "metadata": {},
   "outputs": [],
   "source": []
  }
 ],
 "metadata": {
  "kernelspec": {
   "display_name": "Python 3",
   "language": "python",
   "name": "python3"
  },
  "language_info": {
   "codemirror_mode": {
    "name": "ipython",
    "version": 3
   },
   "file_extension": ".py",
   "mimetype": "text/x-python",
   "name": "python",
   "nbconvert_exporter": "python",
   "pygments_lexer": "ipython3",
   "version": "3.6.8"
  }
 },
 "nbformat": 4,
 "nbformat_minor": 2
}
